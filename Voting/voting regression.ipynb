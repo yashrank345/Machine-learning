{
 "cells": [
  {
   "cell_type": "code",
   "execution_count": 3,
   "id": "b86d64b1-8ef3-4a70-bda9-cbb02903a49a",
   "metadata": {},
   "outputs": [],
   "source": [
    "from sklearn.datasets import fetch_openml"
   ]
  },
  {
   "cell_type": "code",
   "execution_count": 7,
   "id": "56f0ac51-f16f-47e1-8ed9-b920f0e68abd",
   "metadata": {},
   "outputs": [],
   "source": [
    "i= fetch_openml(name='boston',version=1,as_frame=True)"
   ]
  },
  {
   "cell_type": "code",
   "execution_count": 69,
   "id": "cb353d78-8bd6-4db7-aff2-be1fdaba3882",
   "metadata": {},
   "outputs": [],
   "source": [
    "x=i.data\n",
    "x.isnull().sum()\n",
    "x.dtypes\n",
    "x=x.astype(float)"
   ]
  },
  {
   "cell_type": "code",
   "execution_count": 73,
   "id": "29ff1d05-f4d7-4c5d-8759-6c4ac9385449",
   "metadata": {},
   "outputs": [],
   "source": [
    "y =i.target"
   ]
  },
  {
   "cell_type": "code",
   "execution_count": 75,
   "id": "8e74b514-9191-45a3-a8b3-9bc55b41a36b",
   "metadata": {},
   "outputs": [],
   "source": [
    "from sklearn.linear_model import LinearRegression\n",
    "from sklearn.svm import SVR\n",
    "from sklearn.tree import DecisionTreeRegressor\n",
    "from sklearn.model_selection import cross_val_score"
   ]
  },
  {
   "cell_type": "code",
   "execution_count": 77,
   "id": "6870d0de-b06d-491b-b266-7a9a3d70344b",
   "metadata": {},
   "outputs": [],
   "source": [
    "lr = LinearRegression()\n",
    "dt = DecisionTreeRegressor()\n",
    "svr = SVR()"
   ]
  },
  {
   "cell_type": "code",
   "execution_count": 79,
   "id": "62ac53b1-81cb-424f-888f-79b091a6ca4f",
   "metadata": {},
   "outputs": [],
   "source": [
    "estimators = [ ('lr',lr),('dt',dt),('svr',svr)]"
   ]
  },
  {
   "cell_type": "code",
   "execution_count": 81,
   "id": "5b822801-95df-44b9-ba09-3558c77c1f6c",
   "metadata": {},
   "outputs": [
    {
     "name": "stdout",
     "output_type": "stream",
     "text": [
      "lr 0.2\n",
      "dt -0.17\n",
      "svr -0.41\n"
     ]
    }
   ],
   "source": [
    "import numpy as np\n",
    "import warnings\n",
    "warnings.filterwarnings('ignore')\n",
    "for estimator in estimators:\n",
    "    scores = cross_val_score(estimator[1],x,y,scoring='r2',cv=10)\n",
    "    print(estimator[0],np.round(np.mean(scores),2))"
   ]
  },
  {
   "cell_type": "code",
   "execution_count": 83,
   "id": "0882fdb7-991f-48c7-ab28-97ff3d01caba",
   "metadata": {},
   "outputs": [],
   "source": [
    "from sklearn.ensemble import VotingRegressor"
   ]
  },
  {
   "cell_type": "code",
   "execution_count": 85,
   "id": "399e0160-d62e-4e3b-99ca-d3f9ad688351",
   "metadata": {},
   "outputs": [
    {
     "name": "stdout",
     "output_type": "stream",
     "text": [
      "0.43\n"
     ]
    }
   ],
   "source": [
    "vr = VotingRegressor(estimators)\n",
    "scores = cross_val_score(vr,x,y,scoring='r2',cv=10)\n",
    "print(np.round(np.mean(scores),2))\n"
   ]
  },
  {
   "cell_type": "code",
   "execution_count": 87,
   "id": "4f24484d-f7c1-4eef-a35c-a00ae4ff1011",
   "metadata": {},
   "outputs": [
    {
     "name": "stdout",
     "output_type": "stream",
     "text": [
      "for i = 1 , j=1 ,k=1  0.39\n",
      "for i = 1 , j=1 ,k=2  0.35\n",
      "for i = 1 , j=1 ,k=3  0.23\n",
      "for i = 1 , j=2 ,k=1  0.4\n",
      "for i = 1 , j=2 ,k=2  0.39\n",
      "for i = 1 , j=2 ,k=3  0.34\n",
      "for i = 1 , j=3 ,k=1  0.35\n",
      "for i = 1 , j=3 ,k=2  0.31\n",
      "for i = 1 , j=3 ,k=3  0.37\n",
      "for i = 2 , j=1 ,k=1  0.45\n",
      "for i = 2 , j=1 ,k=2  0.43\n",
      "for i = 2 , j=1 ,k=3  0.35\n",
      "for i = 2 , j=2 ,k=1  0.44\n",
      "for i = 2 , j=2 ,k=2  0.4\n",
      "for i = 2 , j=2 ,k=3  0.41\n",
      "for i = 2 , j=3 ,k=1  0.3\n",
      "for i = 2 , j=3 ,k=2  0.45\n",
      "for i = 2 , j=3 ,k=3  0.41\n",
      "for i = 3 , j=1 ,k=1  0.45\n",
      "for i = 3 , j=1 ,k=2  0.43\n",
      "for i = 3 , j=1 ,k=3  0.39\n",
      "for i = 3 , j=2 ,k=1  0.46\n",
      "for i = 3 , j=2 ,k=2  0.43\n",
      "for i = 3 , j=2 ,k=3  0.4\n",
      "for i = 3 , j=3 ,k=1  0.45\n",
      "for i = 3 , j=3 ,k=2  0.38\n",
      "for i = 3 , j=3 ,k=3  0.38\n"
     ]
    }
   ],
   "source": [
    "for i in range(1,4):\n",
    "    for j in range(1,4):\n",
    "        for k in range(1,4):\n",
    "            vr = VotingRegressor(estimators , weights=[i,j,k])\n",
    "            scores = cross_val_score(vr,x,y,scoring='r2',cv=10)\n",
    "            print(\"for i = {} , j={} ,k={} \".format(i,j,k),np.round(np.mean(scores),2))"
   ]
  },
  {
   "cell_type": "code",
   "execution_count": null,
   "id": "6d56c000-a2aa-4a21-9bfc-55d1417f7564",
   "metadata": {},
   "outputs": [],
   "source": []
  }
 ],
 "metadata": {
  "kernelspec": {
   "display_name": "Python [conda env:anaconda]",
   "language": "python",
   "name": "conda-env-anaconda-py"
  },
  "language_info": {
   "codemirror_mode": {
    "name": "ipython",
    "version": 3
   },
   "file_extension": ".py",
   "mimetype": "text/x-python",
   "name": "python",
   "nbconvert_exporter": "python",
   "pygments_lexer": "ipython3",
   "version": "3.12.7"
  }
 },
 "nbformat": 4,
 "nbformat_minor": 5
}
