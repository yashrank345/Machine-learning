{
 "cells": [
  {
   "cell_type": "markdown",
   "id": "1bf0feb3-5e2b-4fa2-8e83-1fa66427f7cf",
   "metadata": {},
   "source": [
    "## Machine Learning "
   ]
  },
  {
   "cell_type": "markdown",
   "id": "55a5ce80-e656-4aad-bb19-c3c3b3d81eee",
   "metadata": {},
   "source": [
    "### supervised learning\n",
    "\n",
    "-it is like a student being taught by a techer.\n",
    "    \n",
    "-we give the machine input and the correct answer and it learns to predict\n",
    "\n",
    "- 99% machine work in supervised learning\n",
    "\n",
    "Example - we will predict custmoer will get loan base on income and credit score\n",
    "\n",
    "- the traning of a model are done using various methoda and these , methods are known as algorithms\n",
    "\n"
   ]
  },
  {
   "cell_type": "markdown",
   "id": "84f8faae-a1ea-431f-8221-ddd0618f8242",
   "metadata": {},
   "source": [
    "### supervised learning algorithms\n",
    "1.linear regression\n",
    "\n",
    "2.logistic regression\n",
    "\n",
    "3.decision tree\n",
    "\n",
    "4.navie bayes\n",
    "\n",
    "5.support vector machine\n",
    "\n",
    "6.k-nearest neighbors\n",
    "\n",
    "7.gradient boosting\n"
   ]
  },
  {
   "cell_type": "markdown",
   "id": "628526e0-32a5-489b-9d5c-1b4e8b588751",
   "metadata": {},
   "source": [
    "----------------------------------------------------------------------------------------"
   ]
  },
  {
   "cell_type": "markdown",
   "id": "d64b305b-d0e8-4a92-b5fb-1d9c89cf7500",
   "metadata": {},
   "source": [
    "### unsupervised learning\n",
    "-we will get the data but we are not going to predict anything we will just find patters ,group similar items ,reduce complexity,spot ouliers\n",
    "\n",
    "-unsupervised learning are used with supervised learning to make models"
   ]
  },
  {
   "cell_type": "markdown",
   "id": "b6105e4e-74f1-4cbf-bbf3-254973500829",
   "metadata": {},
   "source": [
    "----------------------------------------------------------------------------------------"
   ]
  },
  {
   "cell_type": "markdown",
   "id": "c83c67b4-dcb3-49ac-8c2c-3901314f1adc",
   "metadata": {},
   "source": [
    "### reinforcement learning\n",
    "-reinforcement learning is like training a dog .\n",
    "\n",
    "-you don't teach it everything directly -instead,you reward good behavior and ignore or punish bad actions.\n",
    "\n",
    "-learning by trial and error"
   ]
  },
  {
   "cell_type": "markdown",
   "id": "7eeeaeab-d206-48b1-8526-618dadff646d",
   "metadata": {},
   "source": [
    "----------------------------------------------------------------------------------------"
   ]
  },
  {
   "cell_type": "markdown",
   "id": "2d007427-b59b-41ee-b965-b41e37b5a8e5",
   "metadata": {},
   "source": [
    "### steps involved in making a machine learning model.\n",
    "\n",
    "1.problem definition\n",
    "\n",
    "2.data collection\n",
    "\n",
    "3.exploratory data analysis (EDA)\n",
    "\n",
    "4.data preprocessing /cleaning\n",
    "\n",
    "5.feature selection and engineering\n",
    "\n",
    "6.split the dataset\n",
    "\n",
    "7.model selection\n",
    "\n",
    "8.model training\n",
    "\n",
    "9.model evalution\n",
    "\n",
    "10.hyperparameter tuning\n",
    "\n",
    "11.model testing / validation"
   ]
  },
  {
   "cell_type": "markdown",
   "id": "08fa92d7-7be1-4c96-bdcc-8f0ef269674e",
   "metadata": {},
   "source": [
    "----------------------------------------------------------------------------------------"
   ]
  },
  {
   "cell_type": "markdown",
   "id": "44c985ef-1327-4e9f-b3ab-b92fa2fd83b8",
   "metadata": {},
   "source": [
    "### exploratory data analysis (EDA)"
   ]
  },
  {
   "cell_type": "markdown",
   "id": "8397e29f-189e-4d12-b380-a4dba9e13b5f",
   "metadata": {},
   "source": [
    "-understand data\n",
    "\n",
    "-discover patterns\n",
    "\n",
    "-spot anomalies\n",
    "\n",
    "-generate insights\n",
    "\n",
    "------------------------------------------------------------\n",
    "EDA Steps\n",
    "\n",
    "1. Viewing the data\n",
    "head() , tail() , shape , info()\n",
    "\n",
    "2.summary statistics\n",
    "mean , median , mode , std , min , max ,quartiles\n",
    "helps understand spread and central tendency\n",
    "\n",
    "3.value counts\n",
    "how many unique value in column?\n",
    "\n",
    "4.missing value analysis\n",
    "\n",
    "5.visualizations\n",
    "histograms -> distribution of values\n",
    "boxplot -> outlier and spread\n",
    "bar plots -> comparisons of categories\n",
    "correlation hetmap -> linear relationships between numerical fetures\n",
    "scatter plots -> bivariate relationships\n",
    "\n",
    "6.target variable exploration\n",
    "how does your output brelate to other variable?\n"
   ]
  },
  {
   "cell_type": "markdown",
   "id": "0767cc5e-3307-4ffd-81e6-f3df06950710",
   "metadata": {},
   "source": [
    "### Data cleaning"
   ]
  },
  {
   "cell_type": "markdown",
   "id": "caa4f7d3-a127-443c-90e1-9ff03274237f",
   "metadata": {},
   "source": [
    "1.handle missing values\n",
    "\n",
    "1.1drop missing rows / columns (only if very few)\n",
    "   \n",
    "1.2 impute with :\n",
    "\n",
    "    -mean/ median -> for numerical data\n",
    "    \n",
    "    -mode -> for categorical data\n",
    "    \n",
    "1.2 remove duplicates\n",
    "\n",
    "1.3 fix data types\n",
    "\n",
    "1.4 handle inconsistent categories\n",
    "\n",
    "    -\"Male\",\"male\",\"MALE\" -> \"male\"\n",
    "    \n",
    "1.5 detect and handle outliers\n",
    "\n",
    "1.6 fix logic or domain error\n",
    "\n"
   ]
  },
  {
   "cell_type": "markdown",
   "id": "7570d108-3b0f-4dbe-adde-00d9bd40510d",
   "metadata": {},
   "source": [
    "### Data preprocessing"
   ]
  },
  {
   "cell_type": "markdown",
   "id": "1e0ac6d6-5a6c-4683-bf5e-94cd1377ab1e",
   "metadata": {},
   "source": [
    "to prepare clean data so it can be analyzed or used in machine learning model\n",
    "\n",
    "1. encoding categorical\n",
    "  \n",
    "  - 1.1 label encoding (ordinal):\n",
    "  \n",
    "    give ordered categories like \"low\",\"medium\",\"high\"\n",
    "    \n",
    "  - 1.2 one-hot encoding (nominal)\n",
    "\n",
    "3. feature transformation  (log,square root)\n",
    "   used to handle skewed data ,like right-skewed or left skewed data.\n",
    "\n",
    "4. feature scaling (normalization or standardization)\n",
    "   bring numerical values to the sam scale especially useful for distance based       \n",
    "   algorithms\n"
   ]
  },
  {
   "cell_type": "markdown",
   "id": "7d547967-0221-4c45-8f37-582afb0b4af6",
   "metadata": {},
   "source": [
    "### Feature engineering"
   ]
  },
  {
   "cell_type": "markdown",
   "id": "53705409-21ec-42cc-b180-0598c4726dd6",
   "metadata": {},
   "source": [
    "creating new features or transforming existing ones to expose useful patterns that ml models can learn from\n",
    "\n",
    "1. mathematical combination\n",
    "2. target based flags\n",
    "3. binning\n",
    "4. time based features\n"
   ]
  },
  {
   "cell_type": "markdown",
   "id": "3d3e246f-7c02-44b2-8923-22731ab2048b",
   "metadata": {},
   "source": [
    "### Feature selection"
   ]
  },
  {
   "cell_type": "markdown",
   "id": "fd6525dd-2968-4b9f-9350-d4a28d1456ab",
   "metadata": {},
   "source": [
    "selecting the most useful features and removing the rest\n",
    "\n",
    "1. reduces noise and overfitting\n",
    "2 .speeds up training\n",
    "3. improves model accuracy\n",
    "4 .makes model interpretation easier\n",
    "\n",
    "\n",
    "1.filter methods\n",
    "\n",
    "- 1.1 correlation matrix -> remove highly correlated features\n",
    "- 1.2 chi-square test(categorical vs categorical)\n",
    "- 1.3 anova f-test (numerical vs categorical)\n",
    "\n",
    "2.embedded methods\n",
    "- 2.1 lasso regression\n",
    "- 2.2 tree-based models"
   ]
  },
  {
   "cell_type": "code",
   "execution_count": null,
   "id": "136b6bf8-1659-4c3c-99c8-01c3a054685b",
   "metadata": {},
   "outputs": [],
   "source": []
  },
  {
   "cell_type": "code",
   "execution_count": null,
   "id": "298db59d-9a7d-4afb-a4c2-57bf5a531447",
   "metadata": {},
   "outputs": [],
   "source": []
  },
  {
   "cell_type": "code",
   "execution_count": null,
   "id": "a6741d18-39c2-4e99-bf61-5eb826adb63c",
   "metadata": {},
   "outputs": [],
   "source": []
  }
 ],
 "metadata": {
  "kernelspec": {
   "display_name": "Python 3 (ipykernel)",
   "language": "python",
   "name": "python3"
  },
  "language_info": {
   "codemirror_mode": {
    "name": "ipython",
    "version": 3
   },
   "file_extension": ".py",
   "mimetype": "text/x-python",
   "name": "python",
   "nbconvert_exporter": "python",
   "pygments_lexer": "ipython3",
   "version": "3.12.6"
  }
 },
 "nbformat": 4,
 "nbformat_minor": 5
}
