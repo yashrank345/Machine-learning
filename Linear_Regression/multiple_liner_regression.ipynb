{
 "cells": [
  {
   "cell_type": "code",
   "execution_count": 3,
   "id": "9d978cfa-3fb9-417a-ac75-0addd2cb424e",
   "metadata": {},
   "outputs": [],
   "source": [
    "from sklearn.datasets import make_regression\n",
    "import numpy as np\n",
    "import pandas as pd\n",
    "import plotly.express as px\n",
    "import plotly.graph_objects as go\n",
    "\n",
    "from sklearn.metrics import mean_absolute_error,mean_squared_error,r2_score"
   ]
  },
  {
   "cell_type": "code",
   "execution_count": 5,
   "id": "8abfbd95-c884-4a50-9b94-998fe7d3b091",
   "metadata": {},
   "outputs": [],
   "source": [
    "x,y = make_regression(n_samples=100 , n_features =2 ,n_informative=2 , n_targets=1 , noise=50)"
   ]
  },
  {
   "cell_type": "code",
   "execution_count": 11,
   "id": "544dfbd6-bbb2-4949-a84d-dc017e42cba0",
   "metadata": {},
   "outputs": [
    {
     "data": {
      "text/plain": [
       "(100, 3)"
      ]
     },
     "execution_count": 11,
     "metadata": {},
     "output_type": "execute_result"
    }
   ],
   "source": [
    "df = pd.DataFrame({'feature1':x[:,0] , 'feature2':x[:,1],'target':y})\n",
    "df.shape"
   ]
  },
  {
   "cell_type": "code",
   "execution_count": 9,
   "id": "be2df656-ab62-4cdf-84fc-66238e89ae23",
   "metadata": {},
   "outputs": [
    {
     "data": {
      "text/html": [
       "<div>\n",
       "<style scoped>\n",
       "    .dataframe tbody tr th:only-of-type {\n",
       "        vertical-align: middle;\n",
       "    }\n",
       "\n",
       "    .dataframe tbody tr th {\n",
       "        vertical-align: top;\n",
       "    }\n",
       "\n",
       "    .dataframe thead th {\n",
       "        text-align: right;\n",
       "    }\n",
       "</style>\n",
       "<table border=\"1\" class=\"dataframe\">\n",
       "  <thead>\n",
       "    <tr style=\"text-align: right;\">\n",
       "      <th></th>\n",
       "      <th>feature1</th>\n",
       "      <th>feature2</th>\n",
       "      <th>target</th>\n",
       "    </tr>\n",
       "  </thead>\n",
       "  <tbody>\n",
       "    <tr>\n",
       "      <th>0</th>\n",
       "      <td>-1.195950</td>\n",
       "      <td>-1.236934</td>\n",
       "      <td>-145.163658</td>\n",
       "    </tr>\n",
       "    <tr>\n",
       "      <th>1</th>\n",
       "      <td>1.280446</td>\n",
       "      <td>-2.162340</td>\n",
       "      <td>-116.268649</td>\n",
       "    </tr>\n",
       "    <tr>\n",
       "      <th>2</th>\n",
       "      <td>0.020044</td>\n",
       "      <td>-1.162226</td>\n",
       "      <td>-72.014472</td>\n",
       "    </tr>\n",
       "    <tr>\n",
       "      <th>3</th>\n",
       "      <td>1.504899</td>\n",
       "      <td>-1.356747</td>\n",
       "      <td>16.972100</td>\n",
       "    </tr>\n",
       "    <tr>\n",
       "      <th>4</th>\n",
       "      <td>-1.472337</td>\n",
       "      <td>0.752134</td>\n",
       "      <td>37.226918</td>\n",
       "    </tr>\n",
       "  </tbody>\n",
       "</table>\n",
       "</div>"
      ],
      "text/plain": [
       "   feature1  feature2      target\n",
       "0 -1.195950 -1.236934 -145.163658\n",
       "1  1.280446 -2.162340 -116.268649\n",
       "2  0.020044 -1.162226  -72.014472\n",
       "3  1.504899 -1.356747   16.972100\n",
       "4 -1.472337  0.752134   37.226918"
      ]
     },
     "execution_count": 9,
     "metadata": {},
     "output_type": "execute_result"
    }
   ],
   "source": [
    "df.head()"
   ]
  },
  {
   "cell_type": "code",
   "execution_count": 18,
   "id": "46b56f1a-e0a0-45b5-9329-1b07138dbe5f",
   "metadata": {},
   "outputs": [
    {
     "data": {
      "application/vnd.plotly.v1+json": {
       "config": {
        "plotlyServerURL": "https://plot.ly"
       },
       "data": [
        {
         "hovertemplate": "feature1=%{x}<br>feature2=%{y}<br>target=%{z}<extra></extra>",
         "legendgroup": "",
         "marker": {
          "color": "#636efa",
          "symbol": "circle"
         },
         "mode": "markers",
         "name": "",
         "scene": "scene",
         "showlegend": false,
         "type": "scatter3d",
         "x": [
          -1.1959499257727184,
          1.2804462630075975,
          0.020044373040412292,
          1.504898587740891,
          -1.4723368097663325,
          1.620650276347099,
          -1.1399284001634735,
          1.0079236680914927,
          -1.014158892743268,
          -0.37088150534968045,
          -0.6994367180562614,
          -0.8619648417854344,
          0.7144964633188929,
          -0.13818791328109306,
          0.39576837353617905,
          -0.8233402693809234,
          -1.6881672824118799,
          0.338873437519853,
          -0.03769827524969603,
          -0.5050328485078,
          2.723790440077587,
          -0.9176945283582618,
          0.851033828256059,
          0.23437432924826615,
          1.0488408586928564,
          -0.08252024829050672,
          0.7280820595845833,
          0.3832587268874534,
          1.5667946889175628,
          0.23002550756333012,
          0.31465954394378587,
          0.34495702672543593,
          -0.1254540183141053,
          0.6121920792111912,
          0.0081280340116587,
          0.6965571257456212,
          0.949194763032437,
          -1.595212101495797,
          0.31870635005042114,
          -0.08542800683436853,
          0.5346196742964496,
          -0.6721542421654212,
          -1.8855826802056048,
          0.09506784392957646,
          0.336524684451264,
          0.4704580735153367,
          -1.0267878266583805,
          -1.602969089486106,
          2.3319464542264994,
          -1.2875113929483524,
          -0.043315435363999816,
          -0.6006557358106047,
          -0.11763407968729693,
          -0.14798278408824708,
          0.22555343341039694,
          1.2263575190591012,
          0.7925888966810357,
          0.06230361365436698,
          -1.0464510591958482,
          -0.8109622051126137,
          -1.094597960213778,
          1.0591554248949657,
          -1.413633143120113,
          0.607946406688034,
          0.3301941868916975,
          -2.1119737366274918,
          0.215379086681061,
          0.8004903364825079,
          0.18364481973794025,
          -0.32415678256726954,
          1.19789768748331,
          -0.6397170011604417,
          -0.34027119725156096,
          -0.7656164512234193,
          0.36120171063648165,
          -0.028091785805701007,
          0.29542096121106154,
          -0.4740975435207317,
          -0.9772011194365129,
          -0.24767366579492048,
          -0.7487347730759819,
          -0.45275187475977363,
          -0.39975233411859656,
          -0.003638427778141805,
          0.08075775443329075,
          1.9066225729045942,
          -0.8703530755924017,
          0.7892514105585517,
          0.7712591216656977,
          -1.302661715440651,
          -0.25916238782873713,
          1.278472411630532,
          0.23574789718567882,
          -0.12228643615411167,
          -0.21485785006448593,
          -0.3924711440591826,
          0.8141734536644178,
          -1.3533659612839202,
          1.1093549422897053,
          -1.2320794613086476
         ],
         "y": [
          -1.2369343768246093,
          -2.1623397518787018,
          -1.1622256061996217,
          -1.3567467777546223,
          0.752133929399577,
          -0.2525734088893347,
          0.05821553453176556,
          -0.5339619904045289,
          1.0281570081157345,
          0.4645675914308686,
          1.5758978412353595,
          0.2604631185432596,
          1.4462515114359251,
          1.4036281284599692,
          0.8777937759389052,
          -0.46247480537301233,
          1.2730977371708072,
          0.938924498499776,
          -0.8899172661361333,
          1.2730272380149699,
          -0.04195538170415038,
          1.6093656031542618,
          0.4279331258519735,
          -0.14915215848829905,
          1.5964717620567979,
          -1.4297454800821463,
          0.09270919572268879,
          -0.6756484202830175,
          -1.1059006802999667,
          -0.22889239344906337,
          0.9319749828736935,
          0.06291840032544929,
          3.208073242254252,
          0.07664097878685962,
          0.09678761466644499,
          -1.0984950901482802,
          -0.9166633949498283,
          0.10476262997951649,
          -0.3918925240993962,
          -1.4720657121810587,
          2.615176528570268,
          0.6873987995335387,
          -1.351218988874164,
          1.803065125303445,
          1.036849589901954,
          0.08463075972158941,
          -1.6461935638304532,
          -0.8416891047216963,
          -1.3817402394671254,
          -1.337314395354524,
          1.652866604566881,
          1.9911054275032165,
          0.4852083760571855,
          0.5086855874907364,
          1.3719498503251213,
          -0.11605654898658822,
          0.26934867768882015,
          1.0233328462929345,
          0.10522806492223781,
          -0.7498992034463383,
          -0.7466294410464838,
          -1.0704919221466733,
          -0.25075573097738035,
          1.2255983335623144,
          -0.1075057289281933,
          1.2428180125776846,
          0.2869623646474453,
          0.9952891330921163,
          0.07531173178170612,
          0.3918454723166503,
          0.3648072433535529,
          -0.4328954801126436,
          1.2970011888989712,
          1.6644690202603827,
          1.503925592044147,
          -1.0558816259381503,
          0.23657148392860178,
          1.5301417600852523,
          -0.32790163439893455,
          -1.0939470496497086,
          -1.5032528303550972,
          -0.32890055056234524,
          0.02896719321857397,
          -1.6948810434785855,
          2.064128839084524,
          -1.268569695225256,
          -0.9379106615632806,
          -0.014655188434208943,
          0.2221268176586826,
          -0.20163133158336358,
          -1.6019136740981017,
          -0.871913805218479,
          2.807953188900002,
          -0.9063498639350991,
          0.42147005326294007,
          0.844331107753209,
          0.8781000541405416,
          -0.5000741609353773,
          0.03846728281942042,
          -0.8120138615233331
         ],
         "z": [
          -145.1636580618204,
          -116.26864866653796,
          -72.01447211975422,
          16.972100077996433,
          37.22691830682989,
          104.15776172150954,
          -168.79418141219708,
          70.29327261158045,
          -10.38878724945157,
          108.82582331361876,
          88.48679665540308,
          -39.20789876815254,
          153.3042010214441,
          186.86870048332372,
          70.82758136089686,
          -167.08974254316746,
          -27.348457327121274,
          92.48796442386619,
          -29.560608423947144,
          57.50645277982069,
          286.90042979187564,
          37.896595455134616,
          214.29206539309362,
          -14.70323157547441,
          94.56854717870755,
          -151.2376394332812,
          17.12419868567533,
          -46.58035990875564,
          53.58423452658852,
          -0.5712731105517929,
          72.81800440603138,
          123.83153676507783,
          276.86510149941745,
          115.97071650022735,
          33.17769738062131,
          59.56931165959539,
          129.39573232249728,
          -134.9187593787891,
          -14.052951689486731,
          -142.15998120848275,
          360.5052246541869,
          -20.325325725316763,
          -283.8938504261371,
          78.59122294999196,
          78.63838974070292,
          52.2870602456321,
          -156.6875714497685,
          -199.29155353278932,
          38.89335341561529,
          -201.10120930007105,
          116.05068546037513,
          90.5287812487846,
          75.98699849200435,
          -89.52710830546154,
          133.13485999700424,
          63.951427790608484,
          71.92747721609804,
          53.14658235884724,
          -90.92062687026848,
          -139.6606006954347,
          -145.63767265501585,
          11.704188729156918,
          -186.2690397348597,
          110.25613105514827,
          40.58420208955887,
          -134.9226002890589,
          17.953825103306915,
          145.0398874925526,
          -21.126662090762647,
          4.505676474367121,
          97.04899771758741,
          -35.90982014610645,
          2.163756391497884,
          88.03176580656496,
          220.44542086709959,
          -11.140984641199822,
          144.85936262956028,
          112.11506070180113,
          -50.33146134181477,
          -96.27207706050672,
          -219.80490748154767,
          -65.99595334151593,
          -62.59647697400558,
          -113.57514064755564,
          155.45632469145733,
          34.034449585227705,
          -124.3573980435658,
          97.47285265842902,
          83.77479277969303,
          -66.68313533655602,
          -166.09763598402967,
          -46.849929860489766,
          265.4080292444768,
          -67.20215353084242,
          37.51506491834848,
          49.094098035952356,
          118.86659704564829,
          -189.04608784107816,
          113.98661018922965,
          -317.20837283311755
         ]
        }
       ],
       "layout": {
        "autosize": true,
        "legend": {
         "tracegroupgap": 0
        },
        "margin": {
         "t": 60
        },
        "scene": {
         "aspectmode": "auto",
         "aspectratio": {
          "x": 1,
          "y": 1,
          "z": 1
         },
         "camera": {
          "center": {
           "x": 0,
           "y": 0,
           "z": 0
          },
          "eye": {
           "x": 1.7645295526252738,
           "y": 1.1802026945826904,
           "z": 0.08646411390676528
          },
          "projection": {
           "type": "perspective"
          },
          "up": {
           "x": 0,
           "y": 0,
           "z": 1
          }
         },
         "domain": {
          "x": [
           0,
           1
          ],
          "y": [
           0,
           1
          ]
         },
         "xaxis": {
          "title": {
           "text": "feature1"
          },
          "type": "linear"
         },
         "yaxis": {
          "title": {
           "text": "feature2"
          },
          "type": "linear"
         },
         "zaxis": {
          "title": {
           "text": "target"
          },
          "type": "linear"
         }
        },
        "template": {
         "data": {
          "bar": [
           {
            "error_x": {
             "color": "#2a3f5f"
            },
            "error_y": {
             "color": "#2a3f5f"
            },
            "marker": {
             "line": {
              "color": "#E5ECF6",
              "width": 0.5
             },
             "pattern": {
              "fillmode": "overlay",
              "size": 10,
              "solidity": 0.2
             }
            },
            "type": "bar"
           }
          ],
          "barpolar": [
           {
            "marker": {
             "line": {
              "color": "#E5ECF6",
              "width": 0.5
             },
             "pattern": {
              "fillmode": "overlay",
              "size": 10,
              "solidity": 0.2
             }
            },
            "type": "barpolar"
           }
          ],
          "carpet": [
           {
            "aaxis": {
             "endlinecolor": "#2a3f5f",
             "gridcolor": "white",
             "linecolor": "white",
             "minorgridcolor": "white",
             "startlinecolor": "#2a3f5f"
            },
            "baxis": {
             "endlinecolor": "#2a3f5f",
             "gridcolor": "white",
             "linecolor": "white",
             "minorgridcolor": "white",
             "startlinecolor": "#2a3f5f"
            },
            "type": "carpet"
           }
          ],
          "choropleth": [
           {
            "colorbar": {
             "outlinewidth": 0,
             "ticks": ""
            },
            "type": "choropleth"
           }
          ],
          "contour": [
           {
            "colorbar": {
             "outlinewidth": 0,
             "ticks": ""
            },
            "colorscale": [
             [
              0,
              "#0d0887"
             ],
             [
              0.1111111111111111,
              "#46039f"
             ],
             [
              0.2222222222222222,
              "#7201a8"
             ],
             [
              0.3333333333333333,
              "#9c179e"
             ],
             [
              0.4444444444444444,
              "#bd3786"
             ],
             [
              0.5555555555555556,
              "#d8576b"
             ],
             [
              0.6666666666666666,
              "#ed7953"
             ],
             [
              0.7777777777777778,
              "#fb9f3a"
             ],
             [
              0.8888888888888888,
              "#fdca26"
             ],
             [
              1,
              "#f0f921"
             ]
            ],
            "type": "contour"
           }
          ],
          "contourcarpet": [
           {
            "colorbar": {
             "outlinewidth": 0,
             "ticks": ""
            },
            "type": "contourcarpet"
           }
          ],
          "heatmap": [
           {
            "colorbar": {
             "outlinewidth": 0,
             "ticks": ""
            },
            "colorscale": [
             [
              0,
              "#0d0887"
             ],
             [
              0.1111111111111111,
              "#46039f"
             ],
             [
              0.2222222222222222,
              "#7201a8"
             ],
             [
              0.3333333333333333,
              "#9c179e"
             ],
             [
              0.4444444444444444,
              "#bd3786"
             ],
             [
              0.5555555555555556,
              "#d8576b"
             ],
             [
              0.6666666666666666,
              "#ed7953"
             ],
             [
              0.7777777777777778,
              "#fb9f3a"
             ],
             [
              0.8888888888888888,
              "#fdca26"
             ],
             [
              1,
              "#f0f921"
             ]
            ],
            "type": "heatmap"
           }
          ],
          "heatmapgl": [
           {
            "colorbar": {
             "outlinewidth": 0,
             "ticks": ""
            },
            "colorscale": [
             [
              0,
              "#0d0887"
             ],
             [
              0.1111111111111111,
              "#46039f"
             ],
             [
              0.2222222222222222,
              "#7201a8"
             ],
             [
              0.3333333333333333,
              "#9c179e"
             ],
             [
              0.4444444444444444,
              "#bd3786"
             ],
             [
              0.5555555555555556,
              "#d8576b"
             ],
             [
              0.6666666666666666,
              "#ed7953"
             ],
             [
              0.7777777777777778,
              "#fb9f3a"
             ],
             [
              0.8888888888888888,
              "#fdca26"
             ],
             [
              1,
              "#f0f921"
             ]
            ],
            "type": "heatmapgl"
           }
          ],
          "histogram": [
           {
            "marker": {
             "pattern": {
              "fillmode": "overlay",
              "size": 10,
              "solidity": 0.2
             }
            },
            "type": "histogram"
           }
          ],
          "histogram2d": [
           {
            "colorbar": {
             "outlinewidth": 0,
             "ticks": ""
            },
            "colorscale": [
             [
              0,
              "#0d0887"
             ],
             [
              0.1111111111111111,
              "#46039f"
             ],
             [
              0.2222222222222222,
              "#7201a8"
             ],
             [
              0.3333333333333333,
              "#9c179e"
             ],
             [
              0.4444444444444444,
              "#bd3786"
             ],
             [
              0.5555555555555556,
              "#d8576b"
             ],
             [
              0.6666666666666666,
              "#ed7953"
             ],
             [
              0.7777777777777778,
              "#fb9f3a"
             ],
             [
              0.8888888888888888,
              "#fdca26"
             ],
             [
              1,
              "#f0f921"
             ]
            ],
            "type": "histogram2d"
           }
          ],
          "histogram2dcontour": [
           {
            "colorbar": {
             "outlinewidth": 0,
             "ticks": ""
            },
            "colorscale": [
             [
              0,
              "#0d0887"
             ],
             [
              0.1111111111111111,
              "#46039f"
             ],
             [
              0.2222222222222222,
              "#7201a8"
             ],
             [
              0.3333333333333333,
              "#9c179e"
             ],
             [
              0.4444444444444444,
              "#bd3786"
             ],
             [
              0.5555555555555556,
              "#d8576b"
             ],
             [
              0.6666666666666666,
              "#ed7953"
             ],
             [
              0.7777777777777778,
              "#fb9f3a"
             ],
             [
              0.8888888888888888,
              "#fdca26"
             ],
             [
              1,
              "#f0f921"
             ]
            ],
            "type": "histogram2dcontour"
           }
          ],
          "mesh3d": [
           {
            "colorbar": {
             "outlinewidth": 0,
             "ticks": ""
            },
            "type": "mesh3d"
           }
          ],
          "parcoords": [
           {
            "line": {
             "colorbar": {
              "outlinewidth": 0,
              "ticks": ""
             }
            },
            "type": "parcoords"
           }
          ],
          "pie": [
           {
            "automargin": true,
            "type": "pie"
           }
          ],
          "scatter": [
           {
            "fillpattern": {
             "fillmode": "overlay",
             "size": 10,
             "solidity": 0.2
            },
            "type": "scatter"
           }
          ],
          "scatter3d": [
           {
            "line": {
             "colorbar": {
              "outlinewidth": 0,
              "ticks": ""
             }
            },
            "marker": {
             "colorbar": {
              "outlinewidth": 0,
              "ticks": ""
             }
            },
            "type": "scatter3d"
           }
          ],
          "scattercarpet": [
           {
            "marker": {
             "colorbar": {
              "outlinewidth": 0,
              "ticks": ""
             }
            },
            "type": "scattercarpet"
           }
          ],
          "scattergeo": [
           {
            "marker": {
             "colorbar": {
              "outlinewidth": 0,
              "ticks": ""
             }
            },
            "type": "scattergeo"
           }
          ],
          "scattergl": [
           {
            "marker": {
             "colorbar": {
              "outlinewidth": 0,
              "ticks": ""
             }
            },
            "type": "scattergl"
           }
          ],
          "scattermapbox": [
           {
            "marker": {
             "colorbar": {
              "outlinewidth": 0,
              "ticks": ""
             }
            },
            "type": "scattermapbox"
           }
          ],
          "scatterpolar": [
           {
            "marker": {
             "colorbar": {
              "outlinewidth": 0,
              "ticks": ""
             }
            },
            "type": "scatterpolar"
           }
          ],
          "scatterpolargl": [
           {
            "marker": {
             "colorbar": {
              "outlinewidth": 0,
              "ticks": ""
             }
            },
            "type": "scatterpolargl"
           }
          ],
          "scatterternary": [
           {
            "marker": {
             "colorbar": {
              "outlinewidth": 0,
              "ticks": ""
             }
            },
            "type": "scatterternary"
           }
          ],
          "surface": [
           {
            "colorbar": {
             "outlinewidth": 0,
             "ticks": ""
            },
            "colorscale": [
             [
              0,
              "#0d0887"
             ],
             [
              0.1111111111111111,
              "#46039f"
             ],
             [
              0.2222222222222222,
              "#7201a8"
             ],
             [
              0.3333333333333333,
              "#9c179e"
             ],
             [
              0.4444444444444444,
              "#bd3786"
             ],
             [
              0.5555555555555556,
              "#d8576b"
             ],
             [
              0.6666666666666666,
              "#ed7953"
             ],
             [
              0.7777777777777778,
              "#fb9f3a"
             ],
             [
              0.8888888888888888,
              "#fdca26"
             ],
             [
              1,
              "#f0f921"
             ]
            ],
            "type": "surface"
           }
          ],
          "table": [
           {
            "cells": {
             "fill": {
              "color": "#EBF0F8"
             },
             "line": {
              "color": "white"
             }
            },
            "header": {
             "fill": {
              "color": "#C8D4E3"
             },
             "line": {
              "color": "white"
             }
            },
            "type": "table"
           }
          ]
         },
         "layout": {
          "annotationdefaults": {
           "arrowcolor": "#2a3f5f",
           "arrowhead": 0,
           "arrowwidth": 1
          },
          "autotypenumbers": "strict",
          "coloraxis": {
           "colorbar": {
            "outlinewidth": 0,
            "ticks": ""
           }
          },
          "colorscale": {
           "diverging": [
            [
             0,
             "#8e0152"
            ],
            [
             0.1,
             "#c51b7d"
            ],
            [
             0.2,
             "#de77ae"
            ],
            [
             0.3,
             "#f1b6da"
            ],
            [
             0.4,
             "#fde0ef"
            ],
            [
             0.5,
             "#f7f7f7"
            ],
            [
             0.6,
             "#e6f5d0"
            ],
            [
             0.7,
             "#b8e186"
            ],
            [
             0.8,
             "#7fbc41"
            ],
            [
             0.9,
             "#4d9221"
            ],
            [
             1,
             "#276419"
            ]
           ],
           "sequential": [
            [
             0,
             "#0d0887"
            ],
            [
             0.1111111111111111,
             "#46039f"
            ],
            [
             0.2222222222222222,
             "#7201a8"
            ],
            [
             0.3333333333333333,
             "#9c179e"
            ],
            [
             0.4444444444444444,
             "#bd3786"
            ],
            [
             0.5555555555555556,
             "#d8576b"
            ],
            [
             0.6666666666666666,
             "#ed7953"
            ],
            [
             0.7777777777777778,
             "#fb9f3a"
            ],
            [
             0.8888888888888888,
             "#fdca26"
            ],
            [
             1,
             "#f0f921"
            ]
           ],
           "sequentialminus": [
            [
             0,
             "#0d0887"
            ],
            [
             0.1111111111111111,
             "#46039f"
            ],
            [
             0.2222222222222222,
             "#7201a8"
            ],
            [
             0.3333333333333333,
             "#9c179e"
            ],
            [
             0.4444444444444444,
             "#bd3786"
            ],
            [
             0.5555555555555556,
             "#d8576b"
            ],
            [
             0.6666666666666666,
             "#ed7953"
            ],
            [
             0.7777777777777778,
             "#fb9f3a"
            ],
            [
             0.8888888888888888,
             "#fdca26"
            ],
            [
             1,
             "#f0f921"
            ]
           ]
          },
          "colorway": [
           "#636efa",
           "#EF553B",
           "#00cc96",
           "#ab63fa",
           "#FFA15A",
           "#19d3f3",
           "#FF6692",
           "#B6E880",
           "#FF97FF",
           "#FECB52"
          ],
          "font": {
           "color": "#2a3f5f"
          },
          "geo": {
           "bgcolor": "white",
           "lakecolor": "white",
           "landcolor": "#E5ECF6",
           "showlakes": true,
           "showland": true,
           "subunitcolor": "white"
          },
          "hoverlabel": {
           "align": "left"
          },
          "hovermode": "closest",
          "mapbox": {
           "style": "light"
          },
          "paper_bgcolor": "white",
          "plot_bgcolor": "#E5ECF6",
          "polar": {
           "angularaxis": {
            "gridcolor": "white",
            "linecolor": "white",
            "ticks": ""
           },
           "bgcolor": "#E5ECF6",
           "radialaxis": {
            "gridcolor": "white",
            "linecolor": "white",
            "ticks": ""
           }
          },
          "scene": {
           "xaxis": {
            "backgroundcolor": "#E5ECF6",
            "gridcolor": "white",
            "gridwidth": 2,
            "linecolor": "white",
            "showbackground": true,
            "ticks": "",
            "zerolinecolor": "white"
           },
           "yaxis": {
            "backgroundcolor": "#E5ECF6",
            "gridcolor": "white",
            "gridwidth": 2,
            "linecolor": "white",
            "showbackground": true,
            "ticks": "",
            "zerolinecolor": "white"
           },
           "zaxis": {
            "backgroundcolor": "#E5ECF6",
            "gridcolor": "white",
            "gridwidth": 2,
            "linecolor": "white",
            "showbackground": true,
            "ticks": "",
            "zerolinecolor": "white"
           }
          },
          "shapedefaults": {
           "line": {
            "color": "#2a3f5f"
           }
          },
          "ternary": {
           "aaxis": {
            "gridcolor": "white",
            "linecolor": "white",
            "ticks": ""
           },
           "baxis": {
            "gridcolor": "white",
            "linecolor": "white",
            "ticks": ""
           },
           "bgcolor": "#E5ECF6",
           "caxis": {
            "gridcolor": "white",
            "linecolor": "white",
            "ticks": ""
           }
          },
          "title": {
           "x": 0.05
          },
          "xaxis": {
           "automargin": true,
           "gridcolor": "white",
           "linecolor": "white",
           "ticks": "",
           "title": {
            "standoff": 15
           },
           "zerolinecolor": "white",
           "zerolinewidth": 2
          },
          "yaxis": {
           "automargin": true,
           "gridcolor": "white",
           "linecolor": "white",
           "ticks": "",
           "title": {
            "standoff": 15
           },
           "zerolinecolor": "white",
           "zerolinewidth": 2
          }
         }
        }
       }
      },
      "image/png": "[encoded data removed]",
      "text/html": [
       "<div>                            <div id=\"45cd69da-4800-44c3-add6-dea57e670c83\" class=\"plotly-graph-div\" style=\"height:525px; width:100%;\"></div>            <script type=\"text/javascript\">                require([\"plotly\"], function(Plotly) {                    window.PLOTLYENV=window.PLOTLYENV || {};                                    if (document.getElementById(\"45cd69da-4800-44c3-add6-dea57e670c83\")) {                    Plotly.newPlot(                        \"45cd69da-4800-44c3-add6-dea57e670c83\",                        [{\"hovertemplate\":\"feature1=%{x}\\u003cbr\\u003efeature2=%{y}\\u003cbr\\u003etarget=%{z}\\u003cextra\\u003e\\u003c\\u002fextra\\u003e\",\"legendgroup\":\"\",\"marker\":{\"color\":\"#636efa\",\"symbol\":\"circle\"},\"mode\":\"markers\",\"name\":\"\",\"scene\":\"scene\",\"showlegend\":false,\"x\":[-1.1959499257727184,1.2804462630075975,0.020044373040412292,1.504898587740891,-1.4723368097663325,1.620650276347099,-1.1399284001634735,1.0079236680914927,-1.014158892743268,-0.37088150534968045,-0.6994367180562614,-0.8619648417854344,0.7144964633188929,-0.13818791328109306,0.39576837353617905,-0.8233402693809234,-1.6881672824118799,0.338873437519853,-0.03769827524969603,-0.5050328485078,2.723790440077587,-0.9176945283582618,0.851033828256059,0.23437432924826615,1.0488408586928564,-0.08252024829050672,0.7280820595845833,0.3832587268874534,1.5667946889175628,0.23002550756333012,0.31465954394378587,0.34495702672543593,-0.1254540183141053,0.6121920792111912,0.0081280340116587,0.6965571257456212,0.949194763032437,-1.595212101495797,0.31870635005042114,-0.08542800683436853,0.5346196742964496,-0.6721542421654212,-1.8855826802056048,0.09506784392957646,0.336524684451264,0.4704580735153367,-1.0267878266583805,-1.602969089486106,2.3319464542264994,-1.2875113929483524,-0.043315435363999816,-0.6006557358106047,-0.11763407968729693,-0.14798278408824708,0.22555343341039694,1.2263575190591012,0.7925888966810357,0.06230361365436698,-1.0464510591958482,-0.8109622051126137,-1.094597960213778,1.0591554248949657,-1.413633143120113,0.607946406688034,0.3301941868916975,-2.1119737366274918,0.215379086681061,0.8004903364825079,0.18364481973794025,-0.32415678256726954,1.19789768748331,-0.6397170011604417,-0.34027119725156096,-0.7656164512234193,0.36120171063648165,-0.028091785805701007,0.29542096121106154,-0.4740975435207317,-0.9772011194365129,-0.24767366579492048,-0.7487347730759819,-0.45275187475977363,-0.39975233411859656,-0.003638427778141805,0.08075775443329075,1.9066225729045942,-0.8703530755924017,0.7892514105585517,0.7712591216656977,-1.302661715440651,-0.25916238782873713,1.278472411630532,0.23574789718567882,-0.12228643615411167,-0.21485785006448593,-0.3924711440591826,0.8141734536644178,-1.3533659612839202,1.1093549422897053,-1.2320794613086476],\"y\":[-1.2369343768246093,-2.1623397518787018,-1.1622256061996217,-1.3567467777546223,0.752133929399577,-0.2525734088893347,0.05821553453176556,-0.5339619904045289,1.0281570081157345,0.4645675914308686,1.5758978412353595,0.2604631185432596,1.4462515114359251,1.4036281284599692,0.8777937759389052,-0.46247480537301233,1.2730977371708072,0.938924498499776,-0.8899172661361333,1.2730272380149699,-0.04195538170415038,1.6093656031542618,0.4279331258519735,-0.14915215848829905,1.5964717620567979,-1.4297454800821463,0.09270919572268879,-0.6756484202830175,-1.1059006802999667,-0.22889239344906337,0.9319749828736935,0.06291840032544929,3.208073242254252,0.07664097878685962,0.09678761466644499,-1.0984950901482802,-0.9166633949498283,0.10476262997951649,-0.3918925240993962,-1.4720657121810587,2.615176528570268,0.6873987995335387,-1.351218988874164,1.803065125303445,1.036849589901954,0.08463075972158941,-1.6461935638304532,-0.8416891047216963,-1.3817402394671254,-1.337314395354524,1.652866604566881,1.9911054275032165,0.4852083760571855,0.5086855874907364,1.3719498503251213,-0.11605654898658822,0.26934867768882015,1.0233328462929345,0.10522806492223781,-0.7498992034463383,-0.7466294410464838,-1.0704919221466733,-0.25075573097738035,1.2255983335623144,-0.1075057289281933,1.2428180125776846,0.2869623646474453,0.9952891330921163,0.07531173178170612,0.3918454723166503,0.3648072433535529,-0.4328954801126436,1.2970011888989712,1.6644690202603827,1.503925592044147,-1.0558816259381503,0.23657148392860178,1.5301417600852523,-0.32790163439893455,-1.0939470496497086,-1.5032528303550972,-0.32890055056234524,0.02896719321857397,-1.6948810434785855,2.064128839084524,-1.268569695225256,-0.9379106615632806,-0.014655188434208943,0.2221268176586826,-0.20163133158336358,-1.6019136740981017,-0.871913805218479,2.807953188900002,-0.9063498639350991,0.42147005326294007,0.844331107753209,0.8781000541405416,-0.5000741609353773,0.03846728281942042,-0.8120138615233331],\"z\":[-145.1636580618204,-116.26864866653796,-72.01447211975422,16.972100077996433,37.22691830682989,104.15776172150954,-168.79418141219708,70.29327261158045,-10.38878724945157,108.82582331361876,88.48679665540308,-39.20789876815254,153.3042010214441,186.86870048332372,70.82758136089686,-167.08974254316746,-27.348457327121274,92.48796442386619,-29.560608423947144,57.50645277982069,286.90042979187564,37.896595455134616,214.29206539309362,-14.70323157547441,94.56854717870755,-151.2376394332812,17.12419868567533,-46.58035990875564,53.58423452658852,-0.5712731105517929,72.81800440603138,123.83153676507783,276.86510149941745,115.97071650022735,33.17769738062131,59.56931165959539,129.39573232249728,-134.9187593787891,-14.052951689486731,-142.15998120848275,360.5052246541869,-20.325325725316763,-283.8938504261371,78.59122294999196,78.63838974070292,52.2870602456321,-156.6875714497685,-199.29155353278932,38.89335341561529,-201.10120930007105,116.05068546037513,90.5287812487846,75.98699849200435,-89.52710830546154,133.13485999700424,63.951427790608484,71.92747721609804,53.14658235884724,-90.92062687026848,-139.6606006954347,-145.63767265501585,11.704188729156918,-186.2690397348597,110.25613105514827,40.58420208955887,-134.9226002890589,17.953825103306915,145.0398874925526,-21.126662090762647,4.505676474367121,97.04899771758741,-35.90982014610645,2.163756391497884,88.03176580656496,220.44542086709959,-11.140984641199822,144.85936262956028,112.11506070180113,-50.33146134181477,-96.27207706050672,-219.80490748154767,-65.99595334151593,-62.59647697400558,-113.57514064755564,155.45632469145733,34.034449585227705,-124.3573980435658,97.47285265842902,83.77479277969303,-66.68313533655602,-166.09763598402967,-46.849929860489766,265.4080292444768,-67.20215353084242,37.51506491834848,49.094098035952356,118.86659704564829,-189.04608784107816,113.98661018922965,-317.20837283311755],\"type\":\"scatter3d\"}],                        {\"template\":{\"data\":{\"histogram2dcontour\":[{\"type\":\"histogram2dcontour\",\"colorbar\":{\"outlinewidth\":0,\"ticks\":\"\"},\"colorscale\":[[0.0,\"#0d0887\"],[0.1111111111111111,\"#46039f\"],[0.2222222222222222,\"#7201a8\"],[0.3333333333333333,\"#9c179e\"],[0.4444444444444444,\"#bd3786\"],[0.5555555555555556,\"#d8576b\"],[0.6666666666666666,\"#ed7953\"],[0.7777777777777778,\"#fb9f3a\"],[0.8888888888888888,\"#fdca26\"],[1.0,\"#f0f921\"]]}],\"choropleth\":[{\"type\":\"choropleth\",\"colorbar\":{\"outlinewidth\":0,\"ticks\":\"\"}}],\"histogram2d\":[{\"type\":\"histogram2d\",\"colorbar\":{\"outlinewidth\":0,\"ticks\":\"\"},\"colorscale\":[[0.0,\"#0d0887\"],[0.1111111111111111,\"#46039f\"],[0.2222222222222222,\"#7201a8\"],[0.3333333333333333,\"#9c179e\"],[0.4444444444444444,\"#bd3786\"],[0.5555555555555556,\"#d8576b\"],[0.6666666666666666,\"#ed7953\"],[0.7777777777777778,\"#fb9f3a\"],[0.8888888888888888,\"#fdca26\"],[1.0,\"#f0f921\"]]}],\"heatmap\":[{\"type\":\"heatmap\",\"colorbar\":{\"outlinewidth\":0,\"ticks\":\"\"},\"colorscale\":[[0.0,\"#0d0887\"],[0.1111111111111111,\"#46039f\"],[0.2222222222222222,\"#7201a8\"],[0.3333333333333333,\"#9c179e\"],[0.4444444444444444,\"#bd3786\"],[0.5555555555555556,\"#d8576b\"],[0.6666666666666666,\"#ed7953\"],[0.7777777777777778,\"#fb9f3a\"],[0.8888888888888888,\"#fdca26\"],[1.0,\"#f0f921\"]]}],\"heatmapgl\":[{\"type\":\"heatmapgl\",\"colorbar\":{\"outlinewidth\":0,\"ticks\":\"\"},\"colorscale\":[[0.0,\"#0d0887\"],[0.1111111111111111,\"#46039f\"],[0.2222222222222222,\"#7201a8\"],[0.3333333333333333,\"#9c179e\"],[0.4444444444444444,\"#bd3786\"],[0.5555555555555556,\"#d8576b\"],[0.6666666666666666,\"#ed7953\"],[0.7777777777777778,\"#fb9f3a\"],[0.8888888888888888,\"#fdca26\"],[1.0,\"#f0f921\"]]}],\"contourcarpet\":[{\"type\":\"contourcarpet\",\"colorbar\":{\"outlinewidth\":0,\"ticks\":\"\"}}],\"contour\":[{\"type\":\"contour\",\"colorbar\":{\"outlinewidth\":0,\"ticks\":\"\"},\"colorscale\":[[0.0,\"#0d0887\"],[0.1111111111111111,\"#46039f\"],[0.2222222222222222,\"#7201a8\"],[0.3333333333333333,\"#9c179e\"],[0.4444444444444444,\"#bd3786\"],[0.5555555555555556,\"#d8576b\"],[0.6666666666666666,\"#ed7953\"],[0.7777777777777778,\"#fb9f3a\"],[0.8888888888888888,\"#fdca26\"],[1.0,\"#f0f921\"]]}],\"surface\":[{\"type\":\"surface\",\"colorbar\":{\"outlinewidth\":0,\"ticks\":\"\"},\"colorscale\":[[0.0,\"#0d0887\"],[0.1111111111111111,\"#46039f\"],[0.2222222222222222,\"#7201a8\"],[0.3333333333333333,\"#9c179e\"],[0.4444444444444444,\"#bd3786\"],[0.5555555555555556,\"#d8576b\"],[0.6666666666666666,\"#ed7953\"],[0.7777777777777778,\"#fb9f3a\"],[0.8888888888888888,\"#fdca26\"],[1.0,\"#f0f921\"]]}],\"mesh3d\":[{\"type\":\"mesh3d\",\"colorbar\":{\"outlinewidth\":0,\"ticks\":\"\"}}],\"scatter\":[{\"fillpattern\":{\"fillmode\":\"overlay\",\"size\":10,\"solidity\":0.2},\"type\":\"scatter\"}],\"parcoords\":[{\"type\":\"parcoords\",\"line\":{\"colorbar\":{\"outlinewidth\":0,\"ticks\":\"\"}}}],\"scatterpolargl\":[{\"type\":\"scatterpolargl\",\"marker\":{\"colorbar\":{\"outlinewidth\":0,\"ticks\":\"\"}}}],\"bar\":[{\"error_x\":{\"color\":\"#2a3f5f\"},\"error_y\":{\"color\":\"#2a3f5f\"},\"marker\":{\"line\":{\"color\":\"#E5ECF6\",\"width\":0.5},\"pattern\":{\"fillmode\":\"overlay\",\"size\":10,\"solidity\":0.2}},\"type\":\"bar\"}],\"scattergeo\":[{\"type\":\"scattergeo\",\"marker\":{\"colorbar\":{\"outlinewidth\":0,\"ticks\":\"\"}}}],\"scatterpolar\":[{\"type\":\"scatterpolar\",\"marker\":{\"colorbar\":{\"outlinewidth\":0,\"ticks\":\"\"}}}],\"histogram\":[{\"marker\":{\"pattern\":{\"fillmode\":\"overlay\",\"size\":10,\"solidity\":0.2}},\"type\":\"histogram\"}],\"scattergl\":[{\"type\":\"scattergl\",\"marker\":{\"colorbar\":{\"outlinewidth\":0,\"ticks\":\"\"}}}],\"scatter3d\":[{\"type\":\"scatter3d\",\"line\":{\"colorbar\":{\"outlinewidth\":0,\"ticks\":\"\"}},\"marker\":{\"colorbar\":{\"outlinewidth\":0,\"ticks\":\"\"}}}],\"scattermapbox\":[{\"type\":\"scattermapbox\",\"marker\":{\"colorbar\":{\"outlinewidth\":0,\"ticks\":\"\"}}}],\"scatterternary\":[{\"type\":\"scatterternary\",\"marker\":{\"colorbar\":{\"outlinewidth\":0,\"ticks\":\"\"}}}],\"scattercarpet\":[{\"type\":\"scattercarpet\",\"marker\":{\"colorbar\":{\"outlinewidth\":0,\"ticks\":\"\"}}}],\"carpet\":[{\"aaxis\":{\"endlinecolor\":\"#2a3f5f\",\"gridcolor\":\"white\",\"linecolor\":\"white\",\"minorgridcolor\":\"white\",\"startlinecolor\":\"#2a3f5f\"},\"baxis\":{\"endlinecolor\":\"#2a3f5f\",\"gridcolor\":\"white\",\"linecolor\":\"white\",\"minorgridcolor\":\"white\",\"startlinecolor\":\"#2a3f5f\"},\"type\":\"carpet\"}],\"table\":[{\"cells\":{\"fill\":{\"color\":\"#EBF0F8\"},\"line\":{\"color\":\"white\"}},\"header\":{\"fill\":{\"color\":\"#C8D4E3\"},\"line\":{\"color\":\"white\"}},\"type\":\"table\"}],\"barpolar\":[{\"marker\":{\"line\":{\"color\":\"#E5ECF6\",\"width\":0.5},\"pattern\":{\"fillmode\":\"overlay\",\"size\":10,\"solidity\":0.2}},\"type\":\"barpolar\"}],\"pie\":[{\"automargin\":true,\"type\":\"pie\"}]},\"layout\":{\"autotypenumbers\":\"strict\",\"colorway\":[\"#636efa\",\"#EF553B\",\"#00cc96\",\"#ab63fa\",\"#FFA15A\",\"#19d3f3\",\"#FF6692\",\"#B6E880\",\"#FF97FF\",\"#FECB52\"],\"font\":{\"color\":\"#2a3f5f\"},\"hovermode\":\"closest\",\"hoverlabel\":{\"align\":\"left\"},\"paper_bgcolor\":\"white\",\"plot_bgcolor\":\"#E5ECF6\",\"polar\":{\"bgcolor\":\"#E5ECF6\",\"angularaxis\":{\"gridcolor\":\"white\",\"linecolor\":\"white\",\"ticks\":\"\"},\"radialaxis\":{\"gridcolor\":\"white\",\"linecolor\":\"white\",\"ticks\":\"\"}},\"ternary\":{\"bgcolor\":\"#E5ECF6\",\"aaxis\":{\"gridcolor\":\"white\",\"linecolor\":\"white\",\"ticks\":\"\"},\"baxis\":{\"gridcolor\":\"white\",\"linecolor\":\"white\",\"ticks\":\"\"},\"caxis\":{\"gridcolor\":\"white\",\"linecolor\":\"white\",\"ticks\":\"\"}},\"coloraxis\":{\"colorbar\":{\"outlinewidth\":0,\"ticks\":\"\"}},\"colorscale\":{\"sequential\":[[0.0,\"#0d0887\"],[0.1111111111111111,\"#46039f\"],[0.2222222222222222,\"#7201a8\"],[0.3333333333333333,\"#9c179e\"],[0.4444444444444444,\"#bd3786\"],[0.5555555555555556,\"#d8576b\"],[0.6666666666666666,\"#ed7953\"],[0.7777777777777778,\"#fb9f3a\"],[0.8888888888888888,\"#fdca26\"],[1.0,\"#f0f921\"]],\"sequentialminus\":[[0.0,\"#0d0887\"],[0.1111111111111111,\"#46039f\"],[0.2222222222222222,\"#7201a8\"],[0.3333333333333333,\"#9c179e\"],[0.4444444444444444,\"#bd3786\"],[0.5555555555555556,\"#d8576b\"],[0.6666666666666666,\"#ed7953\"],[0.7777777777777778,\"#fb9f3a\"],[0.8888888888888888,\"#fdca26\"],[1.0,\"#f0f921\"]],\"diverging\":[[0,\"#8e0152\"],[0.1,\"#c51b7d\"],[0.2,\"#de77ae\"],[0.3,\"#f1b6da\"],[0.4,\"#fde0ef\"],[0.5,\"#f7f7f7\"],[0.6,\"#e6f5d0\"],[0.7,\"#b8e186\"],[0.8,\"#7fbc41\"],[0.9,\"#4d9221\"],[1,\"#276419\"]]},\"xaxis\":{\"gridcolor\":\"white\",\"linecolor\":\"white\",\"ticks\":\"\",\"title\":{\"standoff\":15},\"zerolinecolor\":\"white\",\"automargin\":true,\"zerolinewidth\":2},\"yaxis\":{\"gridcolor\":\"white\",\"linecolor\":\"white\",\"ticks\":\"\",\"title\":{\"standoff\":15},\"zerolinecolor\":\"white\",\"automargin\":true,\"zerolinewidth\":2},\"scene\":{\"xaxis\":{\"backgroundcolor\":\"#E5ECF6\",\"gridcolor\":\"white\",\"linecolor\":\"white\",\"showbackground\":true,\"ticks\":\"\",\"zerolinecolor\":\"white\",\"gridwidth\":2},\"yaxis\":{\"backgroundcolor\":\"#E5ECF6\",\"gridcolor\":\"white\",\"linecolor\":\"white\",\"showbackground\":true,\"ticks\":\"\",\"zerolinecolor\":\"white\",\"gridwidth\":2},\"zaxis\":{\"backgroundcolor\":\"#E5ECF6\",\"gridcolor\":\"white\",\"linecolor\":\"white\",\"showbackground\":true,\"ticks\":\"\",\"zerolinecolor\":\"white\",\"gridwidth\":2}},\"shapedefaults\":{\"line\":{\"color\":\"#2a3f5f\"}},\"annotationdefaults\":{\"arrowcolor\":\"#2a3f5f\",\"arrowhead\":0,\"arrowwidth\":1},\"geo\":{\"bgcolor\":\"white\",\"landcolor\":\"#E5ECF6\",\"subunitcolor\":\"white\",\"showland\":true,\"showlakes\":true,\"lakecolor\":\"white\"},\"title\":{\"x\":0.05},\"mapbox\":{\"style\":\"light\"}}},\"scene\":{\"domain\":{\"x\":[0.0,1.0],\"y\":[0.0,1.0]},\"xaxis\":{\"title\":{\"text\":\"feature1\"}},\"yaxis\":{\"title\":{\"text\":\"feature2\"}},\"zaxis\":{\"title\":{\"text\":\"target\"}}},\"legend\":{\"tracegroupgap\":0},\"margin\":{\"t\":60}},                        {\"responsive\": true}                    ).then(function(){\n",
       "                            \n",
       "var gd = document.getElementById('45cd69da-4800-44c3-add6-dea57e670c83');\n",
       "var x = new MutationObserver(function (mutations, observer) {{\n",
       "        var display = window.getComputedStyle(gd).display;\n",
       "        if (!display || display === 'none') {{\n",
       "            console.log([gd, 'removed!']);\n",
       "            Plotly.purge(gd);\n",
       "            observer.disconnect();\n",
       "        }}\n",
       "}});\n",
       "\n",
       "// Listen for the removal of the full notebook cells\n",
       "var notebookContainer = gd.closest('#notebook-container');\n",
       "if (notebookContainer) {{\n",
       "    x.observe(notebookContainer, {childList: true});\n",
       "}}\n",
       "\n",
       "// Listen for the clearing of the current output cell\n",
       "var outputEl = gd.closest('.output');\n",
       "if (outputEl) {{\n",
       "    x.observe(outputEl, {childList: true});\n",
       "}}\n",
       "\n",
       "                        })                };                });            </script>        </div>"
      ]
     },
     "metadata": {},
     "output_type": "display_data"
    }
   ],
   "source": [
    "fig = px.scatter_3d(df,x='feature1',y='feature2',z='target')\n",
    "\n",
    "fig.show()"
   ]
  },
  {
   "cell_type": "code",
   "execution_count": 20,
   "id": "9a53c585-2ad1-4eda-b817-492f3f5a6ef3",
   "metadata": {},
   "outputs": [],
   "source": [
    "from sklearn.model_selection import train_test_split\n",
    "x_train,x_test,y_train,y_test = train_test_split(x,y,test_size=0.2,random_state =3)"
   ]
  },
  {
   "cell_type": "code",
   "execution_count": 22,
   "id": "c3e7ddc4-6ce0-4d28-bee0-d26f5900f082",
   "metadata": {},
   "outputs": [],
   "source": [
    "from sklearn.linear_model import LinearRegression"
   ]
  },
  {
   "cell_type": "code",
   "execution_count": 24,
   "id": "4116ee93-83c0-4b42-b077-1f1c6c295e3b",
   "metadata": {},
   "outputs": [],
   "source": [
    "lr = LinearRegression()"
   ]
  },
  {
   "cell_type": "code",
   "execution_count": 26,
   "id": "6aa44f2c-c162-4f4e-b5e5-91ed3276f17b",
   "metadata": {},
   "outputs": [
    {
     "data": {
      "text/html": [
       "<style>#sk-container-id-1 {\n",
       "  /* Definition of color scheme common for light and dark mode */\n",
       "  --sklearn-color-text: black;\n",
       "  --sklearn-color-line: gray;\n",
       "  /* Definition of color scheme for unfitted estimators */\n",
       "  --sklearn-color-unfitted-level-0: #fff5e6;\n",
       "  --sklearn-color-unfitted-level-1: #f6e4d2;\n",
       "  --sklearn-color-unfitted-level-2: #ffe0b3;\n",
       "  --sklearn-color-unfitted-level-3: chocolate;\n",
       "  /* Definition of color scheme for fitted estimators */\n",
       "  --sklearn-color-fitted-level-0: #f0f8ff;\n",
       "  --sklearn-color-fitted-level-1: #d4ebff;\n",
       "  --sklearn-color-fitted-level-2: #b3dbfd;\n",
       "  --sklearn-color-fitted-level-3: cornflowerblue;\n",
       "\n",
       "  /* Specific color for light theme */\n",
       "  --sklearn-color-text-on-default-background: var(--sg-text-color, var(--theme-code-foreground, var(--jp-content-font-color1, black)));\n",
       "  --sklearn-color-background: var(--sg-background-color, var(--theme-background, var(--jp-layout-color0, white)));\n",
       "  --sklearn-color-border-box: var(--sg-text-color, var(--theme-code-foreground, var(--jp-content-font-color1, black)));\n",
       "  --sklearn-color-icon: #696969;\n",
       "\n",
       "  @media (prefers-color-scheme: dark) {\n",
       "    /* Redefinition of color scheme for dark theme */\n",
       "    --sklearn-color-text-on-default-background: var(--sg-text-color, var(--theme-code-foreground, var(--jp-content-font-color1, white)));\n",
       "    --sklearn-color-background: var(--sg-background-color, var(--theme-background, var(--jp-layout-color0, #111)));\n",
       "    --sklearn-color-border-box: var(--sg-text-color, var(--theme-code-foreground, var(--jp-content-font-color1, white)));\n",
       "    --sklearn-color-icon: #878787;\n",
       "  }\n",
       "}\n",
       "\n",
       "#sk-container-id-1 {\n",
       "  color: var(--sklearn-color-text);\n",
       "}\n",
       "\n",
       "#sk-container-id-1 pre {\n",
       "  padding: 0;\n",
       "}\n",
       "\n",
       "#sk-container-id-1 input.sk-hidden--visually {\n",
       "  border: 0;\n",
       "  clip: rect(1px 1px 1px 1px);\n",
       "  clip: rect(1px, 1px, 1px, 1px);\n",
       "  height: 1px;\n",
       "  margin: -1px;\n",
       "  overflow: hidden;\n",
       "  padding: 0;\n",
       "  position: absolute;\n",
       "  width: 1px;\n",
       "}\n",
       "\n",
       "#sk-container-id-1 div.sk-dashed-wrapped {\n",
       "  border: 1px dashed var(--sklearn-color-line);\n",
       "  margin: 0 0.4em 0.5em 0.4em;\n",
       "  box-sizing: border-box;\n",
       "  padding-bottom: 0.4em;\n",
       "  background-color: var(--sklearn-color-background);\n",
       "}\n",
       "\n",
       "#sk-container-id-1 div.sk-container {\n",
       "  /* jupyter's `normalize.less` sets `[hidden] { display: none; }`\n",
       "     but bootstrap.min.css set `[hidden] { display: none !important; }`\n",
       "     so we also need the `!important` here to be able to override the\n",
       "     default hidden behavior on the sphinx rendered scikit-learn.org.\n",
       "     See: https://github.com/scikit-learn/scikit-learn/issues/21755 */\n",
       "  display: inline-block !important;\n",
       "  position: relative;\n",
       "}\n",
       "\n",
       "#sk-container-id-1 div.sk-text-repr-fallback {\n",
       "  display: none;\n",
       "}\n",
       "\n",
       "div.sk-parallel-item,\n",
       "div.sk-serial,\n",
       "div.sk-item {\n",
       "  /* draw centered vertical line to link estimators */\n",
       "  background-image: linear-gradient(var(--sklearn-color-text-on-default-background), var(--sklearn-color-text-on-default-background));\n",
       "  background-size: 2px 100%;\n",
       "  background-repeat: no-repeat;\n",
       "  background-position: center center;\n",
       "}\n",
       "\n",
       "/* Parallel-specific style estimator block */\n",
       "\n",
       "#sk-container-id-1 div.sk-parallel-item::after {\n",
       "  content: \"\";\n",
       "  width: 100%;\n",
       "  border-bottom: 2px solid var(--sklearn-color-text-on-default-background);\n",
       "  flex-grow: 1;\n",
       "}\n",
       "\n",
       "#sk-container-id-1 div.sk-parallel {\n",
       "  display: flex;\n",
       "  align-items: stretch;\n",
       "  justify-content: center;\n",
       "  background-color: var(--sklearn-color-background);\n",
       "  position: relative;\n",
       "}\n",
       "\n",
       "#sk-container-id-1 div.sk-parallel-item {\n",
       "  display: flex;\n",
       "  flex-direction: column;\n",
       "}\n",
       "\n",
       "#sk-container-id-1 div.sk-parallel-item:first-child::after {\n",
       "  align-self: flex-end;\n",
       "  width: 50%;\n",
       "}\n",
       "\n",
       "#sk-container-id-1 div.sk-parallel-item:last-child::after {\n",
       "  align-self: flex-start;\n",
       "  width: 50%;\n",
       "}\n",
       "\n",
       "#sk-container-id-1 div.sk-parallel-item:only-child::after {\n",
       "  width: 0;\n",
       "}\n",
       "\n",
       "/* Serial-specific style estimator block */\n",
       "\n",
       "#sk-container-id-1 div.sk-serial {\n",
       "  display: flex;\n",
       "  flex-direction: column;\n",
       "  align-items: center;\n",
       "  background-color: var(--sklearn-color-background);\n",
       "  padding-right: 1em;\n",
       "  padding-left: 1em;\n",
       "}\n",
       "\n",
       "\n",
       "/* Toggleable style: style used for estimator/Pipeline/ColumnTransformer box that is\n",
       "clickable and can be expanded/collapsed.\n",
       "- Pipeline and ColumnTransformer use this feature and define the default style\n",
       "- Estimators will overwrite some part of the style using the `sk-estimator` class\n",
       "*/\n",
       "\n",
       "/* Pipeline and ColumnTransformer style (default) */\n",
       "\n",
       "#sk-container-id-1 div.sk-toggleable {\n",
       "  /* Default theme specific background. It is overwritten whether we have a\n",
       "  specific estimator or a Pipeline/ColumnTransformer */\n",
       "  background-color: var(--sklearn-color-background);\n",
       "}\n",
       "\n",
       "/* Toggleable label */\n",
       "#sk-container-id-1 label.sk-toggleable__label {\n",
       "  cursor: pointer;\n",
       "  display: block;\n",
       "  width: 100%;\n",
       "  margin-bottom: 0;\n",
       "  padding: 0.5em;\n",
       "  box-sizing: border-box;\n",
       "  text-align: center;\n",
       "}\n",
       "\n",
       "#sk-container-id-1 label.sk-toggleable__label-arrow:before {\n",
       "  /* Arrow on the left of the label */\n",
       "  content: \"▸\";\n",
       "  float: left;\n",
       "  margin-right: 0.25em;\n",
       "  color: var(--sklearn-color-icon);\n",
       "}\n",
       "\n",
       "#sk-container-id-1 label.sk-toggleable__label-arrow:hover:before {\n",
       "  color: var(--sklearn-color-text);\n",
       "}\n",
       "\n",
       "/* Toggleable content - dropdown */\n",
       "\n",
       "#sk-container-id-1 div.sk-toggleable__content {\n",
       "  max-height: 0;\n",
       "  max-width: 0;\n",
       "  overflow: hidden;\n",
       "  text-align: left;\n",
       "  /* unfitted */\n",
       "  background-color: var(--sklearn-color-unfitted-level-0);\n",
       "}\n",
       "\n",
       "#sk-container-id-1 div.sk-toggleable__content.fitted {\n",
       "  /* fitted */\n",
       "  background-color: var(--sklearn-color-fitted-level-0);\n",
       "}\n",
       "\n",
       "#sk-container-id-1 div.sk-toggleable__content pre {\n",
       "  margin: 0.2em;\n",
       "  border-radius: 0.25em;\n",
       "  color: var(--sklearn-color-text);\n",
       "  /* unfitted */\n",
       "  background-color: var(--sklearn-color-unfitted-level-0);\n",
       "}\n",
       "\n",
       "#sk-container-id-1 div.sk-toggleable__content.fitted pre {\n",
       "  /* unfitted */\n",
       "  background-color: var(--sklearn-color-fitted-level-0);\n",
       "}\n",
       "\n",
       "#sk-container-id-1 input.sk-toggleable__control:checked~div.sk-toggleable__content {\n",
       "  /* Expand drop-down */\n",
       "  max-height: 200px;\n",
       "  max-width: 100%;\n",
       "  overflow: auto;\n",
       "}\n",
       "\n",
       "#sk-container-id-1 input.sk-toggleable__control:checked~label.sk-toggleable__label-arrow:before {\n",
       "  content: \"▾\";\n",
       "}\n",
       "\n",
       "/* Pipeline/ColumnTransformer-specific style */\n",
       "\n",
       "#sk-container-id-1 div.sk-label input.sk-toggleable__control:checked~label.sk-toggleable__label {\n",
       "  color: var(--sklearn-color-text);\n",
       "  background-color: var(--sklearn-color-unfitted-level-2);\n",
       "}\n",
       "\n",
       "#sk-container-id-1 div.sk-label.fitted input.sk-toggleable__control:checked~label.sk-toggleable__label {\n",
       "  background-color: var(--sklearn-color-fitted-level-2);\n",
       "}\n",
       "\n",
       "/* Estimator-specific style */\n",
       "\n",
       "/* Colorize estimator box */\n",
       "#sk-container-id-1 div.sk-estimator input.sk-toggleable__control:checked~label.sk-toggleable__label {\n",
       "  /* unfitted */\n",
       "  background-color: var(--sklearn-color-unfitted-level-2);\n",
       "}\n",
       "\n",
       "#sk-container-id-1 div.sk-estimator.fitted input.sk-toggleable__control:checked~label.sk-toggleable__label {\n",
       "  /* fitted */\n",
       "  background-color: var(--sklearn-color-fitted-level-2);\n",
       "}\n",
       "\n",
       "#sk-container-id-1 div.sk-label label.sk-toggleable__label,\n",
       "#sk-container-id-1 div.sk-label label {\n",
       "  /* The background is the default theme color */\n",
       "  color: var(--sklearn-color-text-on-default-background);\n",
       "}\n",
       "\n",
       "/* On hover, darken the color of the background */\n",
       "#sk-container-id-1 div.sk-label:hover label.sk-toggleable__label {\n",
       "  color: var(--sklearn-color-text);\n",
       "  background-color: var(--sklearn-color-unfitted-level-2);\n",
       "}\n",
       "\n",
       "/* Label box, darken color on hover, fitted */\n",
       "#sk-container-id-1 div.sk-label.fitted:hover label.sk-toggleable__label.fitted {\n",
       "  color: var(--sklearn-color-text);\n",
       "  background-color: var(--sklearn-color-fitted-level-2);\n",
       "}\n",
       "\n",
       "/* Estimator label */\n",
       "\n",
       "#sk-container-id-1 div.sk-label label {\n",
       "  font-family: monospace;\n",
       "  font-weight: bold;\n",
       "  display: inline-block;\n",
       "  line-height: 1.2em;\n",
       "}\n",
       "\n",
       "#sk-container-id-1 div.sk-label-container {\n",
       "  text-align: center;\n",
       "}\n",
       "\n",
       "/* Estimator-specific */\n",
       "#sk-container-id-1 div.sk-estimator {\n",
       "  font-family: monospace;\n",
       "  border: 1px dotted var(--sklearn-color-border-box);\n",
       "  border-radius: 0.25em;\n",
       "  box-sizing: border-box;\n",
       "  margin-bottom: 0.5em;\n",
       "  /* unfitted */\n",
       "  background-color: var(--sklearn-color-unfitted-level-0);\n",
       "}\n",
       "\n",
       "#sk-container-id-1 div.sk-estimator.fitted {\n",
       "  /* fitted */\n",
       "  background-color: var(--sklearn-color-fitted-level-0);\n",
       "}\n",
       "\n",
       "/* on hover */\n",
       "#sk-container-id-1 div.sk-estimator:hover {\n",
       "  /* unfitted */\n",
       "  background-color: var(--sklearn-color-unfitted-level-2);\n",
       "}\n",
       "\n",
       "#sk-container-id-1 div.sk-estimator.fitted:hover {\n",
       "  /* fitted */\n",
       "  background-color: var(--sklearn-color-fitted-level-2);\n",
       "}\n",
       "\n",
       "/* Specification for estimator info (e.g. \"i\" and \"?\") */\n",
       "\n",
       "/* Common style for \"i\" and \"?\" */\n",
       "\n",
       ".sk-estimator-doc-link,\n",
       "a:link.sk-estimator-doc-link,\n",
       "a:visited.sk-estimator-doc-link {\n",
       "  float: right;\n",
       "  font-size: smaller;\n",
       "  line-height: 1em;\n",
       "  font-family: monospace;\n",
       "  background-color: var(--sklearn-color-background);\n",
       "  border-radius: 1em;\n",
       "  height: 1em;\n",
       "  width: 1em;\n",
       "  text-decoration: none !important;\n",
       "  margin-left: 1ex;\n",
       "  /* unfitted */\n",
       "  border: var(--sklearn-color-unfitted-level-1) 1pt solid;\n",
       "  color: var(--sklearn-color-unfitted-level-1);\n",
       "}\n",
       "\n",
       ".sk-estimator-doc-link.fitted,\n",
       "a:link.sk-estimator-doc-link.fitted,\n",
       "a:visited.sk-estimator-doc-link.fitted {\n",
       "  /* fitted */\n",
       "  border: var(--sklearn-color-fitted-level-1) 1pt solid;\n",
       "  color: var(--sklearn-color-fitted-level-1);\n",
       "}\n",
       "\n",
       "/* On hover */\n",
       "div.sk-estimator:hover .sk-estimator-doc-link:hover,\n",
       ".sk-estimator-doc-link:hover,\n",
       "div.sk-label-container:hover .sk-estimator-doc-link:hover,\n",
       ".sk-estimator-doc-link:hover {\n",
       "  /* unfitted */\n",
       "  background-color: var(--sklearn-color-unfitted-level-3);\n",
       "  color: var(--sklearn-color-background);\n",
       "  text-decoration: none;\n",
       "}\n",
       "\n",
       "div.sk-estimator.fitted:hover .sk-estimator-doc-link.fitted:hover,\n",
       ".sk-estimator-doc-link.fitted:hover,\n",
       "div.sk-label-container:hover .sk-estimator-doc-link.fitted:hover,\n",
       ".sk-estimator-doc-link.fitted:hover {\n",
       "  /* fitted */\n",
       "  background-color: var(--sklearn-color-fitted-level-3);\n",
       "  color: var(--sklearn-color-background);\n",
       "  text-decoration: none;\n",
       "}\n",
       "\n",
       "/* Span, style for the box shown on hovering the info icon */\n",
       ".sk-estimator-doc-link span {\n",
       "  display: none;\n",
       "  z-index: 9999;\n",
       "  position: relative;\n",
       "  font-weight: normal;\n",
       "  right: .2ex;\n",
       "  padding: .5ex;\n",
       "  margin: .5ex;\n",
       "  width: min-content;\n",
       "  min-width: 20ex;\n",
       "  max-width: 50ex;\n",
       "  color: var(--sklearn-color-text);\n",
       "  box-shadow: 2pt 2pt 4pt #999;\n",
       "  /* unfitted */\n",
       "  background: var(--sklearn-color-unfitted-level-0);\n",
       "  border: .5pt solid var(--sklearn-color-unfitted-level-3);\n",
       "}\n",
       "\n",
       ".sk-estimator-doc-link.fitted span {\n",
       "  /* fitted */\n",
       "  background: var(--sklearn-color-fitted-level-0);\n",
       "  border: var(--sklearn-color-fitted-level-3);\n",
       "}\n",
       "\n",
       ".sk-estimator-doc-link:hover span {\n",
       "  display: block;\n",
       "}\n",
       "\n",
       "/* \"?\"-specific style due to the `<a>` HTML tag */\n",
       "\n",
       "#sk-container-id-1 a.estimator_doc_link {\n",
       "  float: right;\n",
       "  font-size: 1rem;\n",
       "  line-height: 1em;\n",
       "  font-family: monospace;\n",
       "  background-color: var(--sklearn-color-background);\n",
       "  border-radius: 1rem;\n",
       "  height: 1rem;\n",
       "  width: 1rem;\n",
       "  text-decoration: none;\n",
       "  /* unfitted */\n",
       "  color: var(--sklearn-color-unfitted-level-1);\n",
       "  border: var(--sklearn-color-unfitted-level-1) 1pt solid;\n",
       "}\n",
       "\n",
       "#sk-container-id-1 a.estimator_doc_link.fitted {\n",
       "  /* fitted */\n",
       "  border: var(--sklearn-color-fitted-level-1) 1pt solid;\n",
       "  color: var(--sklearn-color-fitted-level-1);\n",
       "}\n",
       "\n",
       "/* On hover */\n",
       "#sk-container-id-1 a.estimator_doc_link:hover {\n",
       "  /* unfitted */\n",
       "  background-color: var(--sklearn-color-unfitted-level-3);\n",
       "  color: var(--sklearn-color-background);\n",
       "  text-decoration: none;\n",
       "}\n",
       "\n",
       "#sk-container-id-1 a.estimator_doc_link.fitted:hover {\n",
       "  /* fitted */\n",
       "  background-color: var(--sklearn-color-fitted-level-3);\n",
       "}\n",
       "</style><div id=\"sk-container-id-1\" class=\"sk-top-container\"><div class=\"sk-text-repr-fallback\"><pre>LinearRegression()</pre><b>In a Jupyter environment, please rerun this cell to show the HTML representation or trust the notebook. <br />On GitHub, the HTML representation is unable to render, please try loading this page with nbviewer.org.</b></div><div class=\"sk-container\" hidden><div class=\"sk-item\"><div class=\"sk-estimator fitted sk-toggleable\"><input class=\"sk-toggleable__control sk-hidden--visually\" id=\"sk-estimator-id-1\" type=\"checkbox\" checked><label for=\"sk-estimator-id-1\" class=\"sk-toggleable__label fitted sk-toggleable__label-arrow fitted\">&nbsp;&nbsp;LinearRegression<a class=\"sk-estimator-doc-link fitted\" rel=\"noreferrer\" target=\"_blank\" href=\"https://scikit-learn.org/1.5/modules/generated/sklearn.linear_model.LinearRegression.html\">?<span>Documentation for LinearRegression</span></a><span class=\"sk-estimator-doc-link fitted\">i<span>Fitted</span></span></label><div class=\"sk-toggleable__content fitted\"><pre>LinearRegression()</pre></div> </div></div></div></div>"
      ],
      "text/plain": [
       "LinearRegression()"
      ]
     },
     "execution_count": 26,
     "metadata": {},
     "output_type": "execute_result"
    }
   ],
   "source": [
    "lr.fit(x_train,y_train)"
   ]
  },
  {
   "cell_type": "code",
   "execution_count": 30,
   "id": "34fca3da-c38e-4ef6-a2e0-272416f97dee",
   "metadata": {},
   "outputs": [],
   "source": [
    "y_pred = lr.predict(x_test)"
   ]
  },
  {
   "cell_type": "code",
   "execution_count": 36,
   "id": "3fa34410-4862-4a90-a9a1-537db0b102ba",
   "metadata": {},
   "outputs": [
    {
     "name": "stdout",
     "output_type": "stream",
     "text": [
      "MAE 34.04261842318971\n",
      "MSE 1823.4017400276098\n",
      "r2 score 0.8755449514875864\n"
     ]
    }
   ],
   "source": [
    "print(\"MAE\" , mean_absolute_error(y_test,y_pred))\n",
    "print(\"MSE\" , mean_squared_error(y_test,y_pred))\n",
    "print(\"r2 score\",r2_score(y_test,y_pred))"
   ]
  },
  {
   "cell_type": "code",
   "execution_count": 58,
   "id": "1b14ebba-6748-42a8-8dac-42d8ae2c2000",
   "metadata": {},
   "outputs": [],
   "source": [
    "import numpy as np\n",
    "\n",
    "# Step 1: Create grid\n",
    "x = np.linspace(-5, 5, 10)\n",
    "y = np.linspace(-5, 5, 10)\n",
    "xGrid, yGrid = np.meshgrid(x, y)\n",
    "\n",
    "# Step 2: Make feature matrix for prediction\n",
    "final = np.vstack((xGrid.ravel(), yGrid.ravel())).T   # shape (100, 2)\n",
    "\n",
    "# Step 3: Predict on grid (NOT y_pred)\n",
    "z_final = lr.predict(final).reshape(10, 10)\n"
   ]
  },
  {
   "cell_type": "code",
   "execution_count": 62,
   "id": "5f07f2bf-00b5-4324-b976-6b64a8cabae0",
   "metadata": {},
   "outputs": [
    {
     "data": {
      "application/vnd.plotly.v1+json": {
       "config": {
        "plotlyServerURL": "https://plot.ly"
       },
       "data": [
        {
         "hovertemplate": "feature1=%{x}<br>feature2=%{y}<br>target=%{z}<extra></extra>",
         "legendgroup": "",
         "marker": {
          "color": "#636efa",
          "symbol": "circle"
         },
         "mode": "markers",
         "name": "",
         "scene": "scene",
         "showlegend": false,
         "type": "scatter3d",
         "x": [
          -1.1959499257727184,
          1.2804462630075975,
          0.020044373040412292,
          1.504898587740891,
          -1.4723368097663325,
          1.620650276347099,
          -1.1399284001634735,
          1.0079236680914927,
          -1.014158892743268,
          -0.37088150534968045,
          -0.6994367180562614,
          -0.8619648417854344,
          0.7144964633188929,
          -0.13818791328109306,
          0.39576837353617905,
          -0.8233402693809234,
          -1.6881672824118799,
          0.338873437519853,
          -0.03769827524969603,
          -0.5050328485078,
          2.723790440077587,
          -0.9176945283582618,
          0.851033828256059,
          0.23437432924826615,
          1.0488408586928564,
          -0.08252024829050672,
          0.7280820595845833,
          0.3832587268874534,
          1.5667946889175628,
          0.23002550756333012,
          0.31465954394378587,
          0.34495702672543593,
          -0.1254540183141053,
          0.6121920792111912,
          0.0081280340116587,
          0.6965571257456212,
          0.949194763032437,
          -1.595212101495797,
          0.31870635005042114,
          -0.08542800683436853,
          0.5346196742964496,
          -0.6721542421654212,
          -1.8855826802056048,
          0.09506784392957646,
          0.336524684451264,
          0.4704580735153367,
          -1.0267878266583805,
          -1.602969089486106,
          2.3319464542264994,
          -1.2875113929483524,
          -0.043315435363999816,
          -0.6006557358106047,
          -0.11763407968729693,
          -0.14798278408824708,
          0.22555343341039694,
          1.2263575190591012,
          0.7925888966810357,
          0.06230361365436698,
          -1.0464510591958482,
          -0.8109622051126137,
          -1.094597960213778,
          1.0591554248949657,
          -1.413633143120113,
          0.607946406688034,
          0.3301941868916975,
          -2.1119737366274918,
          0.215379086681061,
          0.8004903364825079,
          0.18364481973794025,
          -0.32415678256726954,
          1.19789768748331,
          -0.6397170011604417,
          -0.34027119725156096,
          -0.7656164512234193,
          0.36120171063648165,
          -0.028091785805701007,
          0.29542096121106154,
          -0.4740975435207317,
          -0.9772011194365129,
          -0.24767366579492048,
          -0.7487347730759819,
          -0.45275187475977363,
          -0.39975233411859656,
          -0.003638427778141805,
          0.08075775443329075,
          1.9066225729045942,
          -0.8703530755924017,
          0.7892514105585517,
          0.7712591216656977,
          -1.302661715440651,
          -0.25916238782873713,
          1.278472411630532,
          0.23574789718567882,
          -0.12228643615411167,
          -0.21485785006448593,
          -0.3924711440591826,
          0.8141734536644178,
          -1.3533659612839202,
          1.1093549422897053,
          -1.2320794613086476
         ],
         "y": [
          -1.2369343768246093,
          -2.1623397518787018,
          -1.1622256061996217,
          -1.3567467777546223,
          0.752133929399577,
          -0.2525734088893347,
          0.05821553453176556,
          -0.5339619904045289,
          1.0281570081157345,
          0.4645675914308686,
          1.5758978412353595,
          0.2604631185432596,
          1.4462515114359251,
          1.4036281284599692,
          0.8777937759389052,
          -0.46247480537301233,
          1.2730977371708072,
          0.938924498499776,
          -0.8899172661361333,
          1.2730272380149699,
          -0.04195538170415038,
          1.6093656031542618,
          0.4279331258519735,
          -0.14915215848829905,
          1.5964717620567979,
          -1.4297454800821463,
          0.09270919572268879,
          -0.6756484202830175,
          -1.1059006802999667,
          -0.22889239344906337,
          0.9319749828736935,
          0.06291840032544929,
          3.208073242254252,
          0.07664097878685962,
          0.09678761466644499,
          -1.0984950901482802,
          -0.9166633949498283,
          0.10476262997951649,
          -0.3918925240993962,
          -1.4720657121810587,
          2.615176528570268,
          0.6873987995335387,
          -1.351218988874164,
          1.803065125303445,
          1.036849589901954,
          0.08463075972158941,
          -1.6461935638304532,
          -0.8416891047216963,
          -1.3817402394671254,
          -1.337314395354524,
          1.652866604566881,
          1.9911054275032165,
          0.4852083760571855,
          0.5086855874907364,
          1.3719498503251213,
          -0.11605654898658822,
          0.26934867768882015,
          1.0233328462929345,
          0.10522806492223781,
          -0.7498992034463383,
          -0.7466294410464838,
          -1.0704919221466733,
          -0.25075573097738035,
          1.2255983335623144,
          -0.1075057289281933,
          1.2428180125776846,
          0.2869623646474453,
          0.9952891330921163,
          0.07531173178170612,
          0.3918454723166503,
          0.3648072433535529,
          -0.4328954801126436,
          1.2970011888989712,
          1.6644690202603827,
          1.503925592044147,
          -1.0558816259381503,
          0.23657148392860178,
          1.5301417600852523,
          -0.32790163439893455,
          -1.0939470496497086,
          -1.5032528303550972,
          -0.32890055056234524,
          0.02896719321857397,
          -1.6948810434785855,
          2.064128839084524,
          -1.268569695225256,
          -0.9379106615632806,
          -0.014655188434208943,
          0.2221268176586826,
          -0.20163133158336358,
          -1.6019136740981017,
          -0.871913805218479,
          2.807953188900002,
          -0.9063498639350991,
          0.42147005326294007,
          0.844331107753209,
          0.8781000541405416,
          -0.5000741609353773,
          0.03846728281942042,
          -0.8120138615233331
         ],
         "z": [
          -145.1636580618204,
          -116.26864866653796,
          -72.01447211975422,
          16.972100077996433,
          37.22691830682989,
          104.15776172150954,
          -168.79418141219708,
          70.29327261158045,
          -10.38878724945157,
          108.82582331361876,
          88.48679665540308,
          -39.20789876815254,
          153.3042010214441,
          186.86870048332372,
          70.82758136089686,
          -167.08974254316746,
          -27.348457327121274,
          92.48796442386619,
          -29.560608423947144,
          57.50645277982069,
          286.90042979187564,
          37.896595455134616,
          214.29206539309362,
          -14.70323157547441,
          94.56854717870755,
          -151.2376394332812,
          17.12419868567533,
          -46.58035990875564,
          53.58423452658852,
          -0.5712731105517929,
          72.81800440603138,
          123.83153676507783,
          276.86510149941745,
          115.97071650022735,
          33.17769738062131,
          59.56931165959539,
          129.39573232249728,
          -134.9187593787891,
          -14.052951689486731,
          -142.15998120848275,
          360.5052246541869,
          -20.325325725316763,
          -283.8938504261371,
          78.59122294999196,
          78.63838974070292,
          52.2870602456321,
          -156.6875714497685,
          -199.29155353278932,
          38.89335341561529,
          -201.10120930007105,
          116.05068546037513,
          90.5287812487846,
          75.98699849200435,
          -89.52710830546154,
          133.13485999700424,
          63.951427790608484,
          71.92747721609804,
          53.14658235884724,
          -90.92062687026848,
          -139.6606006954347,
          -145.63767265501585,
          11.704188729156918,
          -186.2690397348597,
          110.25613105514827,
          40.58420208955887,
          -134.9226002890589,
          17.953825103306915,
          145.0398874925526,
          -21.126662090762647,
          4.505676474367121,
          97.04899771758741,
          -35.90982014610645,
          2.163756391497884,
          88.03176580656496,
          220.44542086709959,
          -11.140984641199822,
          144.85936262956028,
          112.11506070180113,
          -50.33146134181477,
          -96.27207706050672,
          -219.80490748154767,
          -65.99595334151593,
          -62.59647697400558,
          -113.57514064755564,
          155.45632469145733,
          34.034449585227705,
          -124.3573980435658,
          97.47285265842902,
          83.77479277969303,
          -66.68313533655602,
          -166.09763598402967,
          -46.849929860489766,
          265.4080292444768,
          -67.20215353084242,
          37.51506491834848,
          49.094098035952356,
          118.86659704564829,
          -189.04608784107816,
          113.98661018922965,
          -317.20837283311755
         ]
        },
        {
         "type": "surface",
         "x": [
          -5,
          -3.888888888888889,
          -2.7777777777777777,
          -1.6666666666666665,
          -0.5555555555555554,
          0.5555555555555554,
          1.666666666666667,
          2.7777777777777786,
          3.8888888888888893,
          5
         ],
         "y": [
          -5,
          -3.888888888888889,
          -2.7777777777777777,
          -1.6666666666666665,
          -0.5555555555555554,
          0.5555555555555554,
          1.666666666666667,
          2.7777777777777786,
          3.8888888888888893,
          5
         ],
         "z": [
          [
           -811.4054981627042,
           -718.962998369892,
           -626.5204985770798,
           -534.0779987842677,
           -441.6354989914555,
           -349.19299919864335,
           -256.75049940583114,
           -164.30799961301886,
           -71.86549982020668,
           20.57699997260547
          ],
          [
           -723.0500068922429,
           -630.6075070994307,
           -538.1650073066185,
           -445.72250751380636,
           -353.2800077209942,
           -260.837507928182,
           -168.39500813536978,
           -75.95250834255754,
           16.489991450254657,
           108.9324912430668
          ],
          [
           -634.6945156217816,
           -542.2520158289694,
           -449.8095160361572,
           -357.36701624334506,
           -264.92451645053285,
           -172.48201665772066,
           -80.03951686490842,
           12.40298292790382,
           104.845482720716,
           197.28798251352816
          ],
          [
           -546.3390243513203,
           -453.8965245585081,
           -361.45402476569586,
           -269.0115249728837,
           -176.5690251800715,
           -84.1265253872593,
           8.315974405552922,
           100.75847419836515,
           193.20097399117734,
           285.6434737839895
          ],
          [
           -457.983533080859,
           -365.5410332880468,
           -273.09853349523456,
           -180.65603370242235,
           -88.21353390961013,
           4.228965883202031,
           96.67146567601426,
           189.1139654688265,
           281.55646526163866,
           373.9989650544508
          ],
          [
           -369.62804181039763,
           -277.1855420175854,
           -184.74304222477323,
           -92.30054243196105,
           0.1419573608511704,
           92.58445715366335,
           185.02695694647556,
           277.4694567392878,
           369.9119565321,
           462.3544563249122
          ],
          [
           -281.2725505399363,
           -188.83005074712406,
           -96.38755095431185,
           -3.9450511614996557,
           88.49744863131255,
           180.9399484241247,
           273.38244821693695,
           365.82494800974916,
           458.2674478025614,
           550.7099475953736
          ],
          [
           -192.9170592694749,
           -100.47455947666268,
           -8.032059683850461,
           84.41044010896172,
           176.85293990177394,
           269.2954396945861,
           361.7379394873983,
           454.1804392802106,
           546.6229390730228,
           639.065438865835
          ],
          [
           -104.56156799901359,
           -12.119068206201364,
           80.32343158661084,
           172.76593137942302,
           265.20843117223524,
           357.6509309650474,
           450.09343075785966,
           542.535930550672,
           634.9784303434841,
           727.4209301362963
          ],
          [
           -16.20607672855227,
           76.23642306425995,
           168.67892285707217,
           261.1214226498843,
           353.56392244269654,
           446.0064222355087,
           538.448922028321,
           630.8914218211332,
           723.3339216139454,
           815.7764214067575
          ]
         ]
        }
       ],
       "layout": {
        "autosize": true,
        "dragmode": "zoom",
        "legend": {
         "tracegroupgap": 0
        },
        "margin": {
         "t": 60
        },
        "scene": {
         "aspectmode": "auto",
         "aspectratio": {
          "x": 1,
          "y": 1,
          "z": 1
         },
         "camera": {
          "center": {
           "x": 0,
           "y": 0,
           "z": 0
          },
          "eye": {
           "x": 1.4354090132172093,
           "y": 1.1827903184722204,
           "z": -1.1012748192181252
          },
          "projection": {
           "type": "perspective"
          },
          "up": {
           "x": 0,
           "y": 0,
           "z": 1
          }
         },
         "domain": {
          "x": [
           0,
           1
          ],
          "y": [
           0,
           1
          ]
         },
         "dragmode": "turntable",
         "xaxis": {
          "title": {
           "text": "feature1"
          },
          "type": "linear"
         },
         "yaxis": {
          "title": {
           "text": "feature2"
          },
          "type": "linear"
         },
         "zaxis": {
          "title": {
           "text": "target"
          },
          "type": "linear"
         }
        },
        "template": {
         "data": {
          "bar": [
           {
            "error_x": {
             "color": "#2a3f5f"
            },
            "error_y": {
             "color": "#2a3f5f"
            },
            "marker": {
             "line": {
              "color": "#E5ECF6",
              "width": 0.5
             },
             "pattern": {
              "fillmode": "overlay",
              "size": 10,
              "solidity": 0.2
             }
            },
            "type": "bar"
           }
          ],
          "barpolar": [
           {
            "marker": {
             "line": {
              "color": "#E5ECF6",
              "width": 0.5
             },
             "pattern": {
              "fillmode": "overlay",
              "size": 10,
              "solidity": 0.2
             }
            },
            "type": "barpolar"
           }
          ],
          "carpet": [
           {
            "aaxis": {
             "endlinecolor": "#2a3f5f",
             "gridcolor": "white",
             "linecolor": "white",
             "minorgridcolor": "white",
             "startlinecolor": "#2a3f5f"
            },
            "baxis": {
             "endlinecolor": "#2a3f5f",
             "gridcolor": "white",
             "linecolor": "white",
             "minorgridcolor": "white",
             "startlinecolor": "#2a3f5f"
            },
            "type": "carpet"
           }
          ],
          "choropleth": [
           {
            "colorbar": {
             "outlinewidth": 0,
             "ticks": ""
            },
            "type": "choropleth"
           }
          ],
          "contour": [
           {
            "colorbar": {
             "outlinewidth": 0,
             "ticks": ""
            },
            "colorscale": [
             [
              0,
              "#0d0887"
             ],
             [
              0.1111111111111111,
              "#46039f"
             ],
             [
              0.2222222222222222,
              "#7201a8"
             ],
             [
              0.3333333333333333,
              "#9c179e"
             ],
             [
              0.4444444444444444,
              "#bd3786"
             ],
             [
              0.5555555555555556,
              "#d8576b"
             ],
             [
              0.6666666666666666,
              "#ed7953"
             ],
             [
              0.7777777777777778,
              "#fb9f3a"
             ],
             [
              0.8888888888888888,
              "#fdca26"
             ],
             [
              1,
              "#f0f921"
             ]
            ],
            "type": "contour"
           }
          ],
          "contourcarpet": [
           {
            "colorbar": {
             "outlinewidth": 0,
             "ticks": ""
            },
            "type": "contourcarpet"
           }
          ],
          "heatmap": [
           {
            "colorbar": {
             "outlinewidth": 0,
             "ticks": ""
            },
            "colorscale": [
             [
              0,
              "#0d0887"
             ],
             [
              0.1111111111111111,
              "#46039f"
             ],
             [
              0.2222222222222222,
              "#7201a8"
             ],
             [
              0.3333333333333333,
              "#9c179e"
             ],
             [
              0.4444444444444444,
              "#bd3786"
             ],
             [
              0.5555555555555556,
              "#d8576b"
             ],
             [
              0.6666666666666666,
              "#ed7953"
             ],
             [
              0.7777777777777778,
              "#fb9f3a"
             ],
             [
              0.8888888888888888,
              "#fdca26"
             ],
             [
              1,
              "#f0f921"
             ]
            ],
            "type": "heatmap"
           }
          ],
          "heatmapgl": [
           {
            "colorbar": {
             "outlinewidth": 0,
             "ticks": ""
            },
            "colorscale": [
             [
              0,
              "#0d0887"
             ],
             [
              0.1111111111111111,
              "#46039f"
             ],
             [
              0.2222222222222222,
              "#7201a8"
             ],
             [
              0.3333333333333333,
              "#9c179e"
             ],
             [
              0.4444444444444444,
              "#bd3786"
             ],
             [
              0.5555555555555556,
              "#d8576b"
             ],
             [
              0.6666666666666666,
              "#ed7953"
             ],
             [
              0.7777777777777778,
              "#fb9f3a"
             ],
             [
              0.8888888888888888,
              "#fdca26"
             ],
             [
              1,
              "#f0f921"
             ]
            ],
            "type": "heatmapgl"
           }
          ],
          "histogram": [
           {
            "marker": {
             "pattern": {
              "fillmode": "overlay",
              "size": 10,
              "solidity": 0.2
             }
            },
            "type": "histogram"
           }
          ],
          "histogram2d": [
           {
            "colorbar": {
             "outlinewidth": 0,
             "ticks": ""
            },
            "colorscale": [
             [
              0,
              "#0d0887"
             ],
             [
              0.1111111111111111,
              "#46039f"
             ],
             [
              0.2222222222222222,
              "#7201a8"
             ],
             [
              0.3333333333333333,
              "#9c179e"
             ],
             [
              0.4444444444444444,
              "#bd3786"
             ],
             [
              0.5555555555555556,
              "#d8576b"
             ],
             [
              0.6666666666666666,
              "#ed7953"
             ],
             [
              0.7777777777777778,
              "#fb9f3a"
             ],
             [
              0.8888888888888888,
              "#fdca26"
             ],
             [
              1,
              "#f0f921"
             ]
            ],
            "type": "histogram2d"
           }
          ],
          "histogram2dcontour": [
           {
            "colorbar": {
             "outlinewidth": 0,
             "ticks": ""
            },
            "colorscale": [
             [
              0,
              "#0d0887"
             ],
             [
              0.1111111111111111,
              "#46039f"
             ],
             [
              0.2222222222222222,
              "#7201a8"
             ],
             [
              0.3333333333333333,
              "#9c179e"
             ],
             [
              0.4444444444444444,
              "#bd3786"
             ],
             [
              0.5555555555555556,
              "#d8576b"
             ],
             [
              0.6666666666666666,
              "#ed7953"
             ],
             [
              0.7777777777777778,
              "#fb9f3a"
             ],
             [
              0.8888888888888888,
              "#fdca26"
             ],
             [
              1,
              "#f0f921"
             ]
            ],
            "type": "histogram2dcontour"
           }
          ],
          "mesh3d": [
           {
            "colorbar": {
             "outlinewidth": 0,
             "ticks": ""
            },
            "type": "mesh3d"
           }
          ],
          "parcoords": [
           {
            "line": {
             "colorbar": {
              "outlinewidth": 0,
              "ticks": ""
             }
            },
            "type": "parcoords"
           }
          ],
          "pie": [
           {
            "automargin": true,
            "type": "pie"
           }
          ],
          "scatter": [
           {
            "fillpattern": {
             "fillmode": "overlay",
             "size": 10,
             "solidity": 0.2
            },
            "type": "scatter"
           }
          ],
          "scatter3d": [
           {
            "line": {
             "colorbar": {
              "outlinewidth": 0,
              "ticks": ""
             }
            },
            "marker": {
             "colorbar": {
              "outlinewidth": 0,
              "ticks": ""
             }
            },
            "type": "scatter3d"
           }
          ],
          "scattercarpet": [
           {
            "marker": {
             "colorbar": {
              "outlinewidth": 0,
              "ticks": ""
             }
            },
            "type": "scattercarpet"
           }
          ],
          "scattergeo": [
           {
            "marker": {
             "colorbar": {
              "outlinewidth": 0,
              "ticks": ""
             }
            },
            "type": "scattergeo"
           }
          ],
          "scattergl": [
           {
            "marker": {
             "colorbar": {
              "outlinewidth": 0,
              "ticks": ""
             }
            },
            "type": "scattergl"
           }
          ],
          "scattermapbox": [
           {
            "marker": {
             "colorbar": {
              "outlinewidth": 0,
              "ticks": ""
             }
            },
            "type": "scattermapbox"
           }
          ],
          "scatterpolar": [
           {
            "marker": {
             "colorbar": {
              "outlinewidth": 0,
              "ticks": ""
             }
            },
            "type": "scatterpolar"
           }
          ],
          "scatterpolargl": [
           {
            "marker": {
             "colorbar": {
              "outlinewidth": 0,
              "ticks": ""
             }
            },
            "type": "scatterpolargl"
           }
          ],
          "scatterternary": [
           {
            "marker": {
             "colorbar": {
              "outlinewidth": 0,
              "ticks": ""
             }
            },
            "type": "scatterternary"
           }
          ],
          "surface": [
           {
            "colorbar": {
             "outlinewidth": 0,
             "ticks": ""
            },
            "colorscale": [
             [
              0,
              "#0d0887"
             ],
             [
              0.1111111111111111,
              "#46039f"
             ],
             [
              0.2222222222222222,
              "#7201a8"
             ],
             [
              0.3333333333333333,
              "#9c179e"
             ],
             [
              0.4444444444444444,
              "#bd3786"
             ],
             [
              0.5555555555555556,
              "#d8576b"
             ],
             [
              0.6666666666666666,
              "#ed7953"
             ],
             [
              0.7777777777777778,
              "#fb9f3a"
             ],
             [
              0.8888888888888888,
              "#fdca26"
             ],
             [
              1,
              "#f0f921"
             ]
            ],
            "type": "surface"
           }
          ],
          "table": [
           {
            "cells": {
             "fill": {
              "color": "#EBF0F8"
             },
             "line": {
              "color": "white"
             }
            },
            "header": {
             "fill": {
              "color": "#C8D4E3"
             },
             "line": {
              "color": "white"
             }
            },
            "type": "table"
           }
          ]
         },
         "layout": {
          "annotationdefaults": {
           "arrowcolor": "#2a3f5f",
           "arrowhead": 0,
           "arrowwidth": 1
          },
          "autotypenumbers": "strict",
          "coloraxis": {
           "colorbar": {
            "outlinewidth": 0,
            "ticks": ""
           }
          },
          "colorscale": {
           "diverging": [
            [
             0,
             "#8e0152"
            ],
            [
             0.1,
             "#c51b7d"
            ],
            [
             0.2,
             "#de77ae"
            ],
            [
             0.3,
             "#f1b6da"
            ],
            [
             0.4,
             "#fde0ef"
            ],
            [
             0.5,
             "#f7f7f7"
            ],
            [
             0.6,
             "#e6f5d0"
            ],
            [
             0.7,
             "#b8e186"
            ],
            [
             0.8,
             "#7fbc41"
            ],
            [
             0.9,
             "#4d9221"
            ],
            [
             1,
             "#276419"
            ]
           ],
           "sequential": [
            [
             0,
             "#0d0887"
            ],
            [
             0.1111111111111111,
             "#46039f"
            ],
            [
             0.2222222222222222,
             "#7201a8"
            ],
            [
             0.3333333333333333,
             "#9c179e"
            ],
            [
             0.4444444444444444,
             "#bd3786"
            ],
            [
             0.5555555555555556,
             "#d8576b"
            ],
            [
             0.6666666666666666,
             "#ed7953"
            ],
            [
             0.7777777777777778,
             "#fb9f3a"
            ],
            [
             0.8888888888888888,
             "#fdca26"
            ],
            [
             1,
             "#f0f921"
            ]
           ],
           "sequentialminus": [
            [
             0,
             "#0d0887"
            ],
            [
             0.1111111111111111,
             "#46039f"
            ],
            [
             0.2222222222222222,
             "#7201a8"
            ],
            [
             0.3333333333333333,
             "#9c179e"
            ],
            [
             0.4444444444444444,
             "#bd3786"
            ],
            [
             0.5555555555555556,
             "#d8576b"
            ],
            [
             0.6666666666666666,
             "#ed7953"
            ],
            [
             0.7777777777777778,
             "#fb9f3a"
            ],
            [
             0.8888888888888888,
             "#fdca26"
            ],
            [
             1,
             "#f0f921"
            ]
           ]
          },
          "colorway": [
           "#636efa",
           "#EF553B",
           "#00cc96",
           "#ab63fa",
           "#FFA15A",
           "#19d3f3",
           "#FF6692",
           "#B6E880",
           "#FF97FF",
           "#FECB52"
          ],
          "font": {
           "color": "#2a3f5f"
          },
          "geo": {
           "bgcolor": "white",
           "lakecolor": "white",
           "landcolor": "#E5ECF6",
           "showlakes": true,
           "showland": true,
           "subunitcolor": "white"
          },
          "hoverlabel": {
           "align": "left"
          },
          "hovermode": "closest",
          "mapbox": {
           "style": "light"
          },
          "paper_bgcolor": "white",
          "plot_bgcolor": "#E5ECF6",
          "polar": {
           "angularaxis": {
            "gridcolor": "white",
            "linecolor": "white",
            "ticks": ""
           },
           "bgcolor": "#E5ECF6",
           "radialaxis": {
            "gridcolor": "white",
            "linecolor": "white",
            "ticks": ""
           }
          },
          "scene": {
           "xaxis": {
            "backgroundcolor": "#E5ECF6",
            "gridcolor": "white",
            "gridwidth": 2,
            "linecolor": "white",
            "showbackground": true,
            "ticks": "",
            "zerolinecolor": "white"
           },
           "yaxis": {
            "backgroundcolor": "#E5ECF6",
            "gridcolor": "white",
            "gridwidth": 2,
            "linecolor": "white",
            "showbackground": true,
            "ticks": "",
            "zerolinecolor": "white"
           },
           "zaxis": {
            "backgroundcolor": "#E5ECF6",
            "gridcolor": "white",
            "gridwidth": 2,
            "linecolor": "white",
            "showbackground": true,
            "ticks": "",
            "zerolinecolor": "white"
           }
          },
          "shapedefaults": {
           "line": {
            "color": "#2a3f5f"
           }
          },
          "ternary": {
           "aaxis": {
            "gridcolor": "white",
            "linecolor": "white",
            "ticks": ""
           },
           "baxis": {
            "gridcolor": "white",
            "linecolor": "white",
            "ticks": ""
           },
           "bgcolor": "#E5ECF6",
           "caxis": {
            "gridcolor": "white",
            "linecolor": "white",
            "ticks": ""
           }
          },
          "title": {
           "x": 0.05
          },
          "xaxis": {
           "automargin": true,
           "gridcolor": "white",
           "linecolor": "white",
           "ticks": "",
           "title": {
            "standoff": 15
           },
           "zerolinecolor": "white",
           "zerolinewidth": 2
          },
          "yaxis": {
           "automargin": true,
           "gridcolor": "white",
           "linecolor": "white",
           "ticks": "",
           "title": {
            "standoff": 15
           },
           "zerolinecolor": "white",
           "zerolinewidth": 2
          }
         }
        }
       }
      },
      "image/png": "[encoded data removed]",
      "text/html": [
       "<div>                            <div id=\"65c9787b-6a85-44ef-8371-8f19f6a67b50\" class=\"plotly-graph-div\" style=\"height:525px; width:100%;\"></div>            <script type=\"text/javascript\">                require([\"plotly\"], function(Plotly) {                    window.PLOTLYENV=window.PLOTLYENV || {};                                    if (document.getElementById(\"65c9787b-6a85-44ef-8371-8f19f6a67b50\")) {                    Plotly.newPlot(                        \"65c9787b-6a85-44ef-8371-8f19f6a67b50\",                        [{\"hovertemplate\":\"feature1=%{x}\\u003cbr\\u003efeature2=%{y}\\u003cbr\\u003etarget=%{z}\\u003cextra\\u003e\\u003c\\u002fextra\\u003e\",\"legendgroup\":\"\",\"marker\":{\"color\":\"#636efa\",\"symbol\":\"circle\"},\"mode\":\"markers\",\"name\":\"\",\"scene\":\"scene\",\"showlegend\":false,\"x\":[-1.1959499257727184,1.2804462630075975,0.020044373040412292,1.504898587740891,-1.4723368097663325,1.620650276347099,-1.1399284001634735,1.0079236680914927,-1.014158892743268,-0.37088150534968045,-0.6994367180562614,-0.8619648417854344,0.7144964633188929,-0.13818791328109306,0.39576837353617905,-0.8233402693809234,-1.6881672824118799,0.338873437519853,-0.03769827524969603,-0.5050328485078,2.723790440077587,-0.9176945283582618,0.851033828256059,0.23437432924826615,1.0488408586928564,-0.08252024829050672,0.7280820595845833,0.3832587268874534,1.5667946889175628,0.23002550756333012,0.31465954394378587,0.34495702672543593,-0.1254540183141053,0.6121920792111912,0.0081280340116587,0.6965571257456212,0.949194763032437,-1.595212101495797,0.31870635005042114,-0.08542800683436853,0.5346196742964496,-0.6721542421654212,-1.8855826802056048,0.09506784392957646,0.336524684451264,0.4704580735153367,-1.0267878266583805,-1.602969089486106,2.3319464542264994,-1.2875113929483524,-0.043315435363999816,-0.6006557358106047,-0.11763407968729693,-0.14798278408824708,0.22555343341039694,1.2263575190591012,0.7925888966810357,0.06230361365436698,-1.0464510591958482,-0.8109622051126137,-1.094597960213778,1.0591554248949657,-1.413633143120113,0.607946406688034,0.3301941868916975,-2.1119737366274918,0.215379086681061,0.8004903364825079,0.18364481973794025,-0.32415678256726954,1.19789768748331,-0.6397170011604417,-0.34027119725156096,-0.7656164512234193,0.36120171063648165,-0.028091785805701007,0.29542096121106154,-0.4740975435207317,-0.9772011194365129,-0.24767366579492048,-0.7487347730759819,-0.45275187475977363,-0.39975233411859656,-0.003638427778141805,0.08075775443329075,1.9066225729045942,-0.8703530755924017,0.7892514105585517,0.7712591216656977,-1.302661715440651,-0.25916238782873713,1.278472411630532,0.23574789718567882,-0.12228643615411167,-0.21485785006448593,-0.3924711440591826,0.8141734536644178,-1.3533659612839202,1.1093549422897053,-1.2320794613086476],\"y\":[-1.2369343768246093,-2.1623397518787018,-1.1622256061996217,-1.3567467777546223,0.752133929399577,-0.2525734088893347,0.05821553453176556,-0.5339619904045289,1.0281570081157345,0.4645675914308686,1.5758978412353595,0.2604631185432596,1.4462515114359251,1.4036281284599692,0.8777937759389052,-0.46247480537301233,1.2730977371708072,0.938924498499776,-0.8899172661361333,1.2730272380149699,-0.04195538170415038,1.6093656031542618,0.4279331258519735,-0.14915215848829905,1.5964717620567979,-1.4297454800821463,0.09270919572268879,-0.6756484202830175,-1.1059006802999667,-0.22889239344906337,0.9319749828736935,0.06291840032544929,3.208073242254252,0.07664097878685962,0.09678761466644499,-1.0984950901482802,-0.9166633949498283,0.10476262997951649,-0.3918925240993962,-1.4720657121810587,2.615176528570268,0.6873987995335387,-1.351218988874164,1.803065125303445,1.036849589901954,0.08463075972158941,-1.6461935638304532,-0.8416891047216963,-1.3817402394671254,-1.337314395354524,1.652866604566881,1.9911054275032165,0.4852083760571855,0.5086855874907364,1.3719498503251213,-0.11605654898658822,0.26934867768882015,1.0233328462929345,0.10522806492223781,-0.7498992034463383,-0.7466294410464838,-1.0704919221466733,-0.25075573097738035,1.2255983335623144,-0.1075057289281933,1.2428180125776846,0.2869623646474453,0.9952891330921163,0.07531173178170612,0.3918454723166503,0.3648072433535529,-0.4328954801126436,1.2970011888989712,1.6644690202603827,1.503925592044147,-1.0558816259381503,0.23657148392860178,1.5301417600852523,-0.32790163439893455,-1.0939470496497086,-1.5032528303550972,-0.32890055056234524,0.02896719321857397,-1.6948810434785855,2.064128839084524,-1.268569695225256,-0.9379106615632806,-0.014655188434208943,0.2221268176586826,-0.20163133158336358,-1.6019136740981017,-0.871913805218479,2.807953188900002,-0.9063498639350991,0.42147005326294007,0.844331107753209,0.8781000541405416,-0.5000741609353773,0.03846728281942042,-0.8120138615233331],\"z\":[-145.1636580618204,-116.26864866653796,-72.01447211975422,16.972100077996433,37.22691830682989,104.15776172150954,-168.79418141219708,70.29327261158045,-10.38878724945157,108.82582331361876,88.48679665540308,-39.20789876815254,153.3042010214441,186.86870048332372,70.82758136089686,-167.08974254316746,-27.348457327121274,92.48796442386619,-29.560608423947144,57.50645277982069,286.90042979187564,37.896595455134616,214.29206539309362,-14.70323157547441,94.56854717870755,-151.2376394332812,17.12419868567533,-46.58035990875564,53.58423452658852,-0.5712731105517929,72.81800440603138,123.83153676507783,276.86510149941745,115.97071650022735,33.17769738062131,59.56931165959539,129.39573232249728,-134.9187593787891,-14.052951689486731,-142.15998120848275,360.5052246541869,-20.325325725316763,-283.8938504261371,78.59122294999196,78.63838974070292,52.2870602456321,-156.6875714497685,-199.29155353278932,38.89335341561529,-201.10120930007105,116.05068546037513,90.5287812487846,75.98699849200435,-89.52710830546154,133.13485999700424,63.951427790608484,71.92747721609804,53.14658235884724,-90.92062687026848,-139.6606006954347,-145.63767265501585,11.704188729156918,-186.2690397348597,110.25613105514827,40.58420208955887,-134.9226002890589,17.953825103306915,145.0398874925526,-21.126662090762647,4.505676474367121,97.04899771758741,-35.90982014610645,2.163756391497884,88.03176580656496,220.44542086709959,-11.140984641199822,144.85936262956028,112.11506070180113,-50.33146134181477,-96.27207706050672,-219.80490748154767,-65.99595334151593,-62.59647697400558,-113.57514064755564,155.45632469145733,34.034449585227705,-124.3573980435658,97.47285265842902,83.77479277969303,-66.68313533655602,-166.09763598402967,-46.849929860489766,265.4080292444768,-67.20215353084242,37.51506491834848,49.094098035952356,118.86659704564829,-189.04608784107816,113.98661018922965,-317.20837283311755],\"type\":\"scatter3d\"},{\"x\":[-5.0,-3.888888888888889,-2.7777777777777777,-1.6666666666666665,-0.5555555555555554,0.5555555555555554,1.666666666666667,2.7777777777777786,3.8888888888888893,5.0],\"y\":[-5.0,-3.888888888888889,-2.7777777777777777,-1.6666666666666665,-0.5555555555555554,0.5555555555555554,1.666666666666667,2.7777777777777786,3.8888888888888893,5.0],\"z\":[[-811.4054981627042,-718.962998369892,-626.5204985770798,-534.0779987842677,-441.6354989914555,-349.19299919864335,-256.75049940583114,-164.30799961301886,-71.86549982020668,20.57699997260547],[-723.0500068922429,-630.6075070994307,-538.1650073066185,-445.72250751380636,-353.2800077209942,-260.837507928182,-168.39500813536978,-75.95250834255754,16.489991450254657,108.9324912430668],[-634.6945156217816,-542.2520158289694,-449.8095160361572,-357.36701624334506,-264.92451645053285,-172.48201665772066,-80.03951686490842,12.40298292790382,104.845482720716,197.28798251352816],[-546.3390243513203,-453.8965245585081,-361.45402476569586,-269.0115249728837,-176.5690251800715,-84.1265253872593,8.315974405552922,100.75847419836515,193.20097399117734,285.6434737839895],[-457.983533080859,-365.5410332880468,-273.09853349523456,-180.65603370242235,-88.21353390961013,4.228965883202031,96.67146567601426,189.1139654688265,281.55646526163866,373.9989650544508],[-369.62804181039763,-277.1855420175854,-184.74304222477323,-92.30054243196105,0.1419573608511704,92.58445715366335,185.02695694647556,277.4694567392878,369.9119565321,462.3544563249122],[-281.2725505399363,-188.83005074712406,-96.38755095431185,-3.9450511614996557,88.49744863131255,180.9399484241247,273.38244821693695,365.82494800974916,458.2674478025614,550.7099475953736],[-192.9170592694749,-100.47455947666268,-8.032059683850461,84.41044010896172,176.85293990177394,269.2954396945861,361.7379394873983,454.1804392802106,546.6229390730228,639.065438865835],[-104.56156799901359,-12.119068206201364,80.32343158661084,172.76593137942302,265.20843117223524,357.6509309650474,450.09343075785966,542.535930550672,634.9784303434841,727.4209301362963],[-16.20607672855227,76.23642306425995,168.67892285707217,261.1214226498843,353.56392244269654,446.0064222355087,538.448922028321,630.8914218211332,723.3339216139454,815.7764214067575]],\"type\":\"surface\"}],                        {\"template\":{\"data\":{\"histogram2dcontour\":[{\"type\":\"histogram2dcontour\",\"colorbar\":{\"outlinewidth\":0,\"ticks\":\"\"},\"colorscale\":[[0.0,\"#0d0887\"],[0.1111111111111111,\"#46039f\"],[0.2222222222222222,\"#7201a8\"],[0.3333333333333333,\"#9c179e\"],[0.4444444444444444,\"#bd3786\"],[0.5555555555555556,\"#d8576b\"],[0.6666666666666666,\"#ed7953\"],[0.7777777777777778,\"#fb9f3a\"],[0.8888888888888888,\"#fdca26\"],[1.0,\"#f0f921\"]]}],\"choropleth\":[{\"type\":\"choropleth\",\"colorbar\":{\"outlinewidth\":0,\"ticks\":\"\"}}],\"histogram2d\":[{\"type\":\"histogram2d\",\"colorbar\":{\"outlinewidth\":0,\"ticks\":\"\"},\"colorscale\":[[0.0,\"#0d0887\"],[0.1111111111111111,\"#46039f\"],[0.2222222222222222,\"#7201a8\"],[0.3333333333333333,\"#9c179e\"],[0.4444444444444444,\"#bd3786\"],[0.5555555555555556,\"#d8576b\"],[0.6666666666666666,\"#ed7953\"],[0.7777777777777778,\"#fb9f3a\"],[0.8888888888888888,\"#fdca26\"],[1.0,\"#f0f921\"]]}],\"heatmap\":[{\"type\":\"heatmap\",\"colorbar\":{\"outlinewidth\":0,\"ticks\":\"\"},\"colorscale\":[[0.0,\"#0d0887\"],[0.1111111111111111,\"#46039f\"],[0.2222222222222222,\"#7201a8\"],[0.3333333333333333,\"#9c179e\"],[0.4444444444444444,\"#bd3786\"],[0.5555555555555556,\"#d8576b\"],[0.6666666666666666,\"#ed7953\"],[0.7777777777777778,\"#fb9f3a\"],[0.8888888888888888,\"#fdca26\"],[1.0,\"#f0f921\"]]}],\"heatmapgl\":[{\"type\":\"heatmapgl\",\"colorbar\":{\"outlinewidth\":0,\"ticks\":\"\"},\"colorscale\":[[0.0,\"#0d0887\"],[0.1111111111111111,\"#46039f\"],[0.2222222222222222,\"#7201a8\"],[0.3333333333333333,\"#9c179e\"],[0.4444444444444444,\"#bd3786\"],[0.5555555555555556,\"#d8576b\"],[0.6666666666666666,\"#ed7953\"],[0.7777777777777778,\"#fb9f3a\"],[0.8888888888888888,\"#fdca26\"],[1.0,\"#f0f921\"]]}],\"contourcarpet\":[{\"type\":\"contourcarpet\",\"colorbar\":{\"outlinewidth\":0,\"ticks\":\"\"}}],\"contour\":[{\"type\":\"contour\",\"colorbar\":{\"outlinewidth\":0,\"ticks\":\"\"},\"colorscale\":[[0.0,\"#0d0887\"],[0.1111111111111111,\"#46039f\"],[0.2222222222222222,\"#7201a8\"],[0.3333333333333333,\"#9c179e\"],[0.4444444444444444,\"#bd3786\"],[0.5555555555555556,\"#d8576b\"],[0.6666666666666666,\"#ed7953\"],[0.7777777777777778,\"#fb9f3a\"],[0.8888888888888888,\"#fdca26\"],[1.0,\"#f0f921\"]]}],\"surface\":[{\"type\":\"surface\",\"colorbar\":{\"outlinewidth\":0,\"ticks\":\"\"},\"colorscale\":[[0.0,\"#0d0887\"],[0.1111111111111111,\"#46039f\"],[0.2222222222222222,\"#7201a8\"],[0.3333333333333333,\"#9c179e\"],[0.4444444444444444,\"#bd3786\"],[0.5555555555555556,\"#d8576b\"],[0.6666666666666666,\"#ed7953\"],[0.7777777777777778,\"#fb9f3a\"],[0.8888888888888888,\"#fdca26\"],[1.0,\"#f0f921\"]]}],\"mesh3d\":[{\"type\":\"mesh3d\",\"colorbar\":{\"outlinewidth\":0,\"ticks\":\"\"}}],\"scatter\":[{\"fillpattern\":{\"fillmode\":\"overlay\",\"size\":10,\"solidity\":0.2},\"type\":\"scatter\"}],\"parcoords\":[{\"type\":\"parcoords\",\"line\":{\"colorbar\":{\"outlinewidth\":0,\"ticks\":\"\"}}}],\"scatterpolargl\":[{\"type\":\"scatterpolargl\",\"marker\":{\"colorbar\":{\"outlinewidth\":0,\"ticks\":\"\"}}}],\"bar\":[{\"error_x\":{\"color\":\"#2a3f5f\"},\"error_y\":{\"color\":\"#2a3f5f\"},\"marker\":{\"line\":{\"color\":\"#E5ECF6\",\"width\":0.5},\"pattern\":{\"fillmode\":\"overlay\",\"size\":10,\"solidity\":0.2}},\"type\":\"bar\"}],\"scattergeo\":[{\"type\":\"scattergeo\",\"marker\":{\"colorbar\":{\"outlinewidth\":0,\"ticks\":\"\"}}}],\"scatterpolar\":[{\"type\":\"scatterpolar\",\"marker\":{\"colorbar\":{\"outlinewidth\":0,\"ticks\":\"\"}}}],\"histogram\":[{\"marker\":{\"pattern\":{\"fillmode\":\"overlay\",\"size\":10,\"solidity\":0.2}},\"type\":\"histogram\"}],\"scattergl\":[{\"type\":\"scattergl\",\"marker\":{\"colorbar\":{\"outlinewidth\":0,\"ticks\":\"\"}}}],\"scatter3d\":[{\"type\":\"scatter3d\",\"line\":{\"colorbar\":{\"outlinewidth\":0,\"ticks\":\"\"}},\"marker\":{\"colorbar\":{\"outlinewidth\":0,\"ticks\":\"\"}}}],\"scattermapbox\":[{\"type\":\"scattermapbox\",\"marker\":{\"colorbar\":{\"outlinewidth\":0,\"ticks\":\"\"}}}],\"scatterternary\":[{\"type\":\"scatterternary\",\"marker\":{\"colorbar\":{\"outlinewidth\":0,\"ticks\":\"\"}}}],\"scattercarpet\":[{\"type\":\"scattercarpet\",\"marker\":{\"colorbar\":{\"outlinewidth\":0,\"ticks\":\"\"}}}],\"carpet\":[{\"aaxis\":{\"endlinecolor\":\"#2a3f5f\",\"gridcolor\":\"white\",\"linecolor\":\"white\",\"minorgridcolor\":\"white\",\"startlinecolor\":\"#2a3f5f\"},\"baxis\":{\"endlinecolor\":\"#2a3f5f\",\"gridcolor\":\"white\",\"linecolor\":\"white\",\"minorgridcolor\":\"white\",\"startlinecolor\":\"#2a3f5f\"},\"type\":\"carpet\"}],\"table\":[{\"cells\":{\"fill\":{\"color\":\"#EBF0F8\"},\"line\":{\"color\":\"white\"}},\"header\":{\"fill\":{\"color\":\"#C8D4E3\"},\"line\":{\"color\":\"white\"}},\"type\":\"table\"}],\"barpolar\":[{\"marker\":{\"line\":{\"color\":\"#E5ECF6\",\"width\":0.5},\"pattern\":{\"fillmode\":\"overlay\",\"size\":10,\"solidity\":0.2}},\"type\":\"barpolar\"}],\"pie\":[{\"automargin\":true,\"type\":\"pie\"}]},\"layout\":{\"autotypenumbers\":\"strict\",\"colorway\":[\"#636efa\",\"#EF553B\",\"#00cc96\",\"#ab63fa\",\"#FFA15A\",\"#19d3f3\",\"#FF6692\",\"#B6E880\",\"#FF97FF\",\"#FECB52\"],\"font\":{\"color\":\"#2a3f5f\"},\"hovermode\":\"closest\",\"hoverlabel\":{\"align\":\"left\"},\"paper_bgcolor\":\"white\",\"plot_bgcolor\":\"#E5ECF6\",\"polar\":{\"bgcolor\":\"#E5ECF6\",\"angularaxis\":{\"gridcolor\":\"white\",\"linecolor\":\"white\",\"ticks\":\"\"},\"radialaxis\":{\"gridcolor\":\"white\",\"linecolor\":\"white\",\"ticks\":\"\"}},\"ternary\":{\"bgcolor\":\"#E5ECF6\",\"aaxis\":{\"gridcolor\":\"white\",\"linecolor\":\"white\",\"ticks\":\"\"},\"baxis\":{\"gridcolor\":\"white\",\"linecolor\":\"white\",\"ticks\":\"\"},\"caxis\":{\"gridcolor\":\"white\",\"linecolor\":\"white\",\"ticks\":\"\"}},\"coloraxis\":{\"colorbar\":{\"outlinewidth\":0,\"ticks\":\"\"}},\"colorscale\":{\"sequential\":[[0.0,\"#0d0887\"],[0.1111111111111111,\"#46039f\"],[0.2222222222222222,\"#7201a8\"],[0.3333333333333333,\"#9c179e\"],[0.4444444444444444,\"#bd3786\"],[0.5555555555555556,\"#d8576b\"],[0.6666666666666666,\"#ed7953\"],[0.7777777777777778,\"#fb9f3a\"],[0.8888888888888888,\"#fdca26\"],[1.0,\"#f0f921\"]],\"sequentialminus\":[[0.0,\"#0d0887\"],[0.1111111111111111,\"#46039f\"],[0.2222222222222222,\"#7201a8\"],[0.3333333333333333,\"#9c179e\"],[0.4444444444444444,\"#bd3786\"],[0.5555555555555556,\"#d8576b\"],[0.6666666666666666,\"#ed7953\"],[0.7777777777777778,\"#fb9f3a\"],[0.8888888888888888,\"#fdca26\"],[1.0,\"#f0f921\"]],\"diverging\":[[0,\"#8e0152\"],[0.1,\"#c51b7d\"],[0.2,\"#de77ae\"],[0.3,\"#f1b6da\"],[0.4,\"#fde0ef\"],[0.5,\"#f7f7f7\"],[0.6,\"#e6f5d0\"],[0.7,\"#b8e186\"],[0.8,\"#7fbc41\"],[0.9,\"#4d9221\"],[1,\"#276419\"]]},\"xaxis\":{\"gridcolor\":\"white\",\"linecolor\":\"white\",\"ticks\":\"\",\"title\":{\"standoff\":15},\"zerolinecolor\":\"white\",\"automargin\":true,\"zerolinewidth\":2},\"yaxis\":{\"gridcolor\":\"white\",\"linecolor\":\"white\",\"ticks\":\"\",\"title\":{\"standoff\":15},\"zerolinecolor\":\"white\",\"automargin\":true,\"zerolinewidth\":2},\"scene\":{\"xaxis\":{\"backgroundcolor\":\"#E5ECF6\",\"gridcolor\":\"white\",\"linecolor\":\"white\",\"showbackground\":true,\"ticks\":\"\",\"zerolinecolor\":\"white\",\"gridwidth\":2},\"yaxis\":{\"backgroundcolor\":\"#E5ECF6\",\"gridcolor\":\"white\",\"linecolor\":\"white\",\"showbackground\":true,\"ticks\":\"\",\"zerolinecolor\":\"white\",\"gridwidth\":2},\"zaxis\":{\"backgroundcolor\":\"#E5ECF6\",\"gridcolor\":\"white\",\"linecolor\":\"white\",\"showbackground\":true,\"ticks\":\"\",\"zerolinecolor\":\"white\",\"gridwidth\":2}},\"shapedefaults\":{\"line\":{\"color\":\"#2a3f5f\"}},\"annotationdefaults\":{\"arrowcolor\":\"#2a3f5f\",\"arrowhead\":0,\"arrowwidth\":1},\"geo\":{\"bgcolor\":\"white\",\"landcolor\":\"#E5ECF6\",\"subunitcolor\":\"white\",\"showland\":true,\"showlakes\":true,\"lakecolor\":\"white\"},\"title\":{\"x\":0.05},\"mapbox\":{\"style\":\"light\"}}},\"scene\":{\"domain\":{\"x\":[0.0,1.0],\"y\":[0.0,1.0]},\"xaxis\":{\"title\":{\"text\":\"feature1\"}},\"yaxis\":{\"title\":{\"text\":\"feature2\"}},\"zaxis\":{\"title\":{\"text\":\"target\"}}},\"legend\":{\"tracegroupgap\":0},\"margin\":{\"t\":60}},                        {\"responsive\": true}                    ).then(function(){\n",
       "                            \n",
       "var gd = document.getElementById('65c9787b-6a85-44ef-8371-8f19f6a67b50');\n",
       "var x = new MutationObserver(function (mutations, observer) {{\n",
       "        var display = window.getComputedStyle(gd).display;\n",
       "        if (!display || display === 'none') {{\n",
       "            console.log([gd, 'removed!']);\n",
       "            Plotly.purge(gd);\n",
       "            observer.disconnect();\n",
       "        }}\n",
       "}});\n",
       "\n",
       "// Listen for the removal of the full notebook cells\n",
       "var notebookContainer = gd.closest('#notebook-container');\n",
       "if (notebookContainer) {{\n",
       "    x.observe(notebookContainer, {childList: true});\n",
       "}}\n",
       "\n",
       "// Listen for the clearing of the current output cell\n",
       "var outputEl = gd.closest('.output');\n",
       "if (outputEl) {{\n",
       "    x.observe(outputEl, {childList: true});\n",
       "}}\n",
       "\n",
       "                        })                };                });            </script>        </div>"
      ]
     },
     "metadata": {},
     "output_type": "display_data"
    }
   ],
   "source": [
    "fig = px.scatter_3d(df, x='feature1', y='feature2', z='target')\n",
    "\n",
    "fig.add_trace(go.Surface(x = x, y = y, z =z_final ))\n",
    "\n",
    "fig.show()"
   ]
  },
  {
   "cell_type": "code",
   "execution_count": 66,
   "id": "a0057751-9b0a-4670-93e3-ed5b10b0e54d",
   "metadata": {},
   "outputs": [
    {
     "data": {
      "text/plain": [
       "array([83.19824981, 79.51994214])"
      ]
     },
     "execution_count": 66,
     "metadata": {},
     "output_type": "execute_result"
    }
   ],
   "source": [
    "lr.coef_"
   ]
  },
  {
   "cell_type": "code",
   "execution_count": 68,
   "id": "cfe289a3-9cf4-4848-bc77-bb20099c1b60",
   "metadata": {},
   "outputs": [
    {
     "data": {
      "text/plain": [
       "2.185461622026601"
      ]
     },
     "execution_count": 68,
     "metadata": {},
     "output_type": "execute_result"
    }
   ],
   "source": [
    "lr.intercept_"
   ]
  },
  {
   "cell_type": "code",
   "execution_count": null,
   "id": "a8f6150c-440d-492f-8262-0c21876fc12c",
   "metadata": {},
   "outputs": [],
   "source": []
  }
 ],
 "metadata": {
  "kernelspec": {
   "display_name": "Python [conda env:anaconda]",
   "language": "python",
   "name": "conda-env-anaconda-py"
  },
  "language_info": {
   "codemirror_mode": {
    "name": "ipython",
    "version": 3
   },
   "file_extension": ".py",
   "mimetype": "text/x-python",
   "name": "python",
   "nbconvert_exporter": "python",
   "pygments_lexer": "ipython3",
   "version": "3.12.7"
  }
 },
 "nbformat": 4,
 "nbformat_minor": 5
}
