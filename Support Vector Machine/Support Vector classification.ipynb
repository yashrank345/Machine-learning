{
 "cells": [
  {
   "cell_type": "markdown",
   "id": "b4af8d04-1aa7-4ff3-9243-a7d22b2ebe23",
   "metadata": {},
   "source": [
    "## svc"
   ]
  },
  {
   "cell_type": "code",
   "execution_count": null,
   "id": "534b2b21-edff-4af5-bf96-6a8a9c8d58ba",
   "metadata": {},
   "outputs": [],
   "source": []
  }
 ],
 "metadata": {
  "kernelspec": {
   "display_name": "Python [conda env:anaconda]",
   "language": "python",
   "name": "conda-env-anaconda-py"
  },
  "language_info": {
   "codemirror_mode": {
    "name": "ipython",
    "version": 3
   },
   "file_extension": ".py",
   "mimetype": "text/x-python",
   "name": "python",
   "nbconvert_exporter": "python",
   "pygments_lexer": "ipython3",
   "version": "3.12.7"
  }
 },
 "nbformat": 4,
 "nbformat_minor": 5
}
